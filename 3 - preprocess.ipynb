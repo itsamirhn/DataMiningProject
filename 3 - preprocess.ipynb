{
 "cells": [
  {
   "cell_type": "markdown",
   "id": "86a4a1192a83ced",
   "metadata": {},
   "source": "# Preprocessing the Yelp Reviews Dataset"
  },
  {
   "cell_type": "markdown",
   "id": "4920005f0f7c12e4",
   "metadata": {},
   "source": "### Importing libraries"
  },
  {
   "cell_type": "code",
   "execution_count": null,
   "id": "de9e1cd8bd601dca",
   "metadata": {},
   "outputs": [],
   "source": [
    "import re\n",
    "\n",
    "import contractions\n",
    "import matplotlib.pyplot as plt\n",
    "import nltk\n",
    "import pandas as pd\n",
    "from bs4 import BeautifulSoup\n",
    "from emot.core import emot\n",
    "from nltk.corpus import stopwords\n",
    "from nltk.stem import PorterStemmer, WordNetLemmatizer\n",
    "from nltk.tokenize import word_tokenize\n",
    "from tqdm import tqdm\n",
    "\n",
    "from data.slangs import slangs_dict\n",
    "\n",
    "emot_obj = emot()\n",
    "tqdm.pandas()\n",
    "nltk.download(\"punkt\")\n",
    "nltk.download(\"stopwords\")\n",
    "nltk.download(\"wordnet\")\n",
    "nltk.download(\"omw-1.4\")"
   ]
  },
  {
   "cell_type": "markdown",
   "id": "617aff8108790943",
   "metadata": {},
   "source": "### Constants"
  },
  {
   "cell_type": "code",
   "execution_count": null,
   "id": "20117f1c54a4d5be",
   "metadata": {},
   "outputs": [],
   "source": [
    "file_path = \"data/reviews_sample.csv\"\n",
    "processed_file_path = \"data/reviews_sample_processed.csv\""
   ]
  },
  {
   "cell_type": "markdown",
   "id": "98240b09c177b7a",
   "metadata": {},
   "source": "## Simplifying the dataset"
  },
  {
   "cell_type": "code",
   "execution_count": 122,
   "id": "623d23a848e41b3a",
   "metadata": {
    "ExecuteTime": {
     "end_time": "2025-06-02T20:50:01.522096Z",
     "start_time": "2025-06-02T20:50:01.026735Z"
    }
   },
   "outputs": [],
   "source": [
    "df = pd.read_csv(file_path)"
   ]
  },
  {
   "cell_type": "markdown",
   "id": "69ead049ff03b09c",
   "metadata": {},
   "source": "Cause we are going to use this dataset for sentiment analysis, we can simplify the dataset by removing some columns and converting the `stars` column to binary labels."
  },
  {
   "cell_type": "code",
   "execution_count": 123,
   "id": "32f5ea9c42351054",
   "metadata": {
    "ExecuteTime": {
     "end_time": "2025-06-02T20:50:01.559335Z",
     "start_time": "2025-06-02T20:50:01.546007Z"
    }
   },
   "outputs": [],
   "source": [
    "df[\"label\"] = df[\"stars\"].apply(lambda x: \"positive\" if x >= 4 else \"negative\")\n",
    "df[\"label\"] = df[\"label\"].astype(\"category\")"
   ]
  },
  {
   "cell_type": "markdown",
   "id": "fdf91912669ecae2",
   "metadata": {},
   "source": "Dropping the unnecessary columns, we keep only the `text` and `label` columns."
  },
  {
   "cell_type": "code",
   "execution_count": 124,
   "id": "4eff4aabe712020",
   "metadata": {
    "ExecuteTime": {
     "end_time": "2025-06-02T20:50:01.582641Z",
     "start_time": "2025-06-02T20:50:01.576561Z"
    }
   },
   "outputs": [],
   "source": [
    "df = df[[\"text\", \"label\"]]"
   ]
  },
  {
   "cell_type": "markdown",
   "id": "f332c878f50dfff6",
   "metadata": {},
   "source": "## Text Cleaning"
  },
  {
   "cell_type": "markdown",
   "id": "83a8eaa86e2c544b",
   "metadata": {},
   "source": "### Functions"
  },
  {
   "cell_type": "code",
   "execution_count": 125,
   "id": "fc60f5b168cb02d6",
   "metadata": {
    "ExecuteTime": {
     "end_time": "2025-06-02T20:50:01.604346Z",
     "start_time": "2025-06-02T20:50:01.600272Z"
    }
   },
   "outputs": [],
   "source": [
    "def expressive_lengthening(text):\n",
    "    return re.sub(r\"(.)\\1{2,}\", r\"\\1\", text)\n",
    "\n",
    "\n",
    "def replace_emojis_and_emoticons(text):\n",
    "    result_emoji = emot_obj.emoji(text)\n",
    "    result_emoticon = emot_obj.emoticons(text)\n",
    "\n",
    "    if result_emoji[\"flag\"]:\n",
    "        for symbol, meaning in zip(result_emoji[\"value\"], result_emoji[\"mean\"]):\n",
    "            readable = meaning.replace(\":\", \"\").replace(\"_\", \" \")\n",
    "            text = text.replace(symbol, readable)\n",
    "\n",
    "    if result_emoticon[\"flag\"]:\n",
    "        for symbol, meaning in zip(result_emoticon[\"value\"], result_emoticon[\"mean\"]):\n",
    "            readable = meaning.lower().replace(\" \", \"_\")\n",
    "            text = text.replace(symbol, readable)\n",
    "\n",
    "    return text\n",
    "\n",
    "\n",
    "def remove_html_markups(text):\n",
    "    return BeautifulSoup(text, \"html.parser\").get_text()\n",
    "\n",
    "\n",
    "def handle_slangs(tokens):\n",
    "    return [slangs_dict.get(token.lower(), token) for token in tokens]\n",
    "\n",
    "\n",
    "def remove_stopwords(tokens):\n",
    "    stop_words = set(stopwords.words(\"english\"))\n",
    "    return [w for w in tokens if w.lower() not in stop_words]\n",
    "\n",
    "\n",
    "def stem_tokens(tokens):\n",
    "    stemmer = PorterStemmer()\n",
    "    return [stemmer.stem(w) for w in tokens]\n",
    "\n",
    "\n",
    "def lemmatize_tokens(tokens):\n",
    "    lemmatizer = WordNetLemmatizer()\n",
    "    return [lemmatizer.lemmatize(w) for w in tokens]"
   ]
  },
  {
   "cell_type": "code",
   "execution_count": 126,
   "id": "25805f8a5e662143",
   "metadata": {
    "ExecuteTime": {
     "end_time": "2025-06-02T20:50:01.624325Z",
     "start_time": "2025-06-02T20:50:01.622041Z"
    }
   },
   "outputs": [],
   "source": [
    "def preprocess_text(text):\n",
    "    text = expressive_lengthening(text)\n",
    "    text = replace_emojis_and_emoticons(text)\n",
    "    text = remove_html_markups(text)\n",
    "    text = contractions.fix(text)\n",
    "\n",
    "    tokens = word_tokenize(text)\n",
    "    tokens = handle_slangs(tokens)\n",
    "    tokens = remove_stopwords(tokens)\n",
    "    tokens = stem_tokens(tokens)\n",
    "    tokens = lemmatize_tokens(tokens)\n",
    "    return \" \".join(tokens)"
   ]
  },
  {
   "cell_type": "markdown",
   "id": "4f7b372ca2699d36",
   "metadata": {},
   "source": "### Applying the processed text"
  },
  {
   "cell_type": "code",
   "execution_count": 127,
   "id": "eb9dae93ed859399",
   "metadata": {
    "ExecuteTime": {
     "end_time": "2025-06-02T20:52:19.643730Z",
     "start_time": "2025-06-02T20:50:01.641061Z"
    }
   },
   "outputs": [
    {
     "name": "stderr",
     "output_type": "stream",
     "text": [
      "100%|██████████| 69903/69903 [02:17<00:00, 506.58it/s]\n"
     ]
    }
   ],
   "source": [
    "df[\"processed_text\"] = df[\"text\"].progress_apply(preprocess_text)"
   ]
  },
  {
   "cell_type": "markdown",
   "id": "d7e03280c7e6d0dd",
   "metadata": {},
   "source": "### Checking differences"
  },
  {
   "cell_type": "code",
   "execution_count": 129,
   "id": "f8a070f6489bbe79",
   "metadata": {
    "ExecuteTime": {
     "end_time": "2025-06-02T20:52:20.588567Z",
     "start_time": "2025-06-02T20:52:20.572857Z"
    }
   },
   "outputs": [
    {
     "data": {
      "text/html": [
       "<div>\n",
       "<style scoped>\n",
       "    .dataframe tbody tr th:only-of-type {\n",
       "        vertical-align: middle;\n",
       "    }\n",
       "\n",
       "    .dataframe tbody tr th {\n",
       "        vertical-align: top;\n",
       "    }\n",
       "\n",
       "    .dataframe thead th {\n",
       "        text-align: right;\n",
       "    }\n",
       "</style>\n",
       "<table border=\"1\" class=\"dataframe\">\n",
       "  <thead>\n",
       "    <tr style=\"text-align: right;\">\n",
       "      <th></th>\n",
       "      <th>text</th>\n",
       "      <th>label</th>\n",
       "      <th>processed_text</th>\n",
       "    </tr>\n",
       "  </thead>\n",
       "  <tbody>\n",
       "    <tr>\n",
       "      <th>0</th>\n",
       "      <td>Went for lunch and found that my burger was me...</td>\n",
       "      <td>negative</td>\n",
       "      <td>went lunch found burger whatev . obviou focu b...</td>\n",
       "    </tr>\n",
       "    <tr>\n",
       "      <th>1</th>\n",
       "      <td>I needed a new tires for my wife's car. They h...</td>\n",
       "      <td>positive</td>\n",
       "      <td>need new tire wife 's car . special order next...</td>\n",
       "    </tr>\n",
       "    <tr>\n",
       "      <th>2</th>\n",
       "      <td>Jim Woltman who works at Goleta Honda is 5 sta...</td>\n",
       "      <td>positive</td>\n",
       "      <td>jim woltman work goleta honda 5 star ! ! knowl...</td>\n",
       "    </tr>\n",
       "    <tr>\n",
       "      <th>3</th>\n",
       "      <td>Been here a few times to get some shrimp.  The...</td>\n",
       "      <td>positive</td>\n",
       "      <td>time get shrimp . got nice select differ fish ...</td>\n",
       "    </tr>\n",
       "    <tr>\n",
       "      <th>4</th>\n",
       "      <td>This is one fantastic place to eat whether you...</td>\n",
       "      <td>positive</td>\n",
       "      <td>one fantast place eat whether hungri need good...</td>\n",
       "    </tr>\n",
       "    <tr>\n",
       "      <th>5</th>\n",
       "      <td>Dirt cheap happy hour specials.  Half priced d...</td>\n",
       "      <td>negative</td>\n",
       "      <td>dirt cheap happi hour special . half price dri...</td>\n",
       "    </tr>\n",
       "    <tr>\n",
       "      <th>6</th>\n",
       "      <td>Unbelievably poor customer \"service\".  Beyond ...</td>\n",
       "      <td>negative</td>\n",
       "      <td>unbeliev poor custom `` servic '' . beyond bad...</td>\n",
       "    </tr>\n",
       "    <tr>\n",
       "      <th>7</th>\n",
       "      <td>I walked in the door and was greeted with a we...</td>\n",
       "      <td>positive</td>\n",
       "      <td>walk door greet welcom smile . offer help find...</td>\n",
       "    </tr>\n",
       "    <tr>\n",
       "      <th>8</th>\n",
       "      <td>Nothing beats pizza and beer in my book. This ...</td>\n",
       "      <td>positive</td>\n",
       "      <td>noth beat pizza beer book . place nail , eye t...</td>\n",
       "    </tr>\n",
       "    <tr>\n",
       "      <th>9</th>\n",
       "      <td>Philly cheese steak (loaded)  was phenomenal. ...</td>\n",
       "      <td>positive</td>\n",
       "      <td>philli chees steak ( load ) phenomen . good se...</td>\n",
       "    </tr>\n",
       "  </tbody>\n",
       "</table>\n",
       "</div>"
      ],
      "text/plain": [
       "                                                text     label  \\\n",
       "0  Went for lunch and found that my burger was me...  negative   \n",
       "1  I needed a new tires for my wife's car. They h...  positive   \n",
       "2  Jim Woltman who works at Goleta Honda is 5 sta...  positive   \n",
       "3  Been here a few times to get some shrimp.  The...  positive   \n",
       "4  This is one fantastic place to eat whether you...  positive   \n",
       "5  Dirt cheap happy hour specials.  Half priced d...  negative   \n",
       "6  Unbelievably poor customer \"service\".  Beyond ...  negative   \n",
       "7  I walked in the door and was greeted with a we...  positive   \n",
       "8  Nothing beats pizza and beer in my book. This ...  positive   \n",
       "9  Philly cheese steak (loaded)  was phenomenal. ...  positive   \n",
       "\n",
       "                                      processed_text  \n",
       "0  went lunch found burger whatev . obviou focu b...  \n",
       "1  need new tire wife 's car . special order next...  \n",
       "2  jim woltman work goleta honda 5 star ! ! knowl...  \n",
       "3  time get shrimp . got nice select differ fish ...  \n",
       "4  one fantast place eat whether hungri need good...  \n",
       "5  dirt cheap happi hour special . half price dri...  \n",
       "6  unbeliev poor custom `` servic '' . beyond bad...  \n",
       "7  walk door greet welcom smile . offer help find...  \n",
       "8  noth beat pizza beer book . place nail , eye t...  \n",
       "9  philli chees steak ( load ) phenomen . good se...  "
      ]
     },
     "execution_count": 129,
     "metadata": {},
     "output_type": "execute_result"
    }
   ],
   "source": [
    "df[df[\"text\"] != df[\"processed_text\"]].head(10)"
   ]
  },
  {
   "cell_type": "code",
   "execution_count": 130,
   "id": "7cdb89c379a0e47",
   "metadata": {
    "ExecuteTime": {
     "end_time": "2025-06-02T20:52:21.155708Z",
     "start_time": "2025-06-02T20:52:20.628656Z"
    }
   },
   "outputs": [
    {
     "data": {
      "image/png": "[encoded data removed]",
      "text/plain": [
       "<Figure size 1000x600 with 1 Axes>"
      ]
     },
     "metadata": {},
     "output_type": "display_data"
    }
   ],
   "source": [
    "df[\"diff_len\"] = df[\"text\"].apply(len) - df[\"processed_text\"].apply(len)\n",
    "plt.figure(figsize=(10, 6))\n",
    "plt.hist(df[\"diff_len\"], bins=50, color=\"blue\", alpha=0.7)\n",
    "plt.title(\"Distribution of Length Difference between Original and Processed Text\")\n",
    "plt.xlabel(\"Length Difference (Original - Processed)\")\n",
    "plt.ylabel(\"Frequency\")\n",
    "plt.axvline(\n",
    "    df[\"diff_len\"].mean(),\n",
    "    color=\"red\",\n",
    "    linestyle=\"dashed\",\n",
    "    linewidth=1,\n",
    "    label=\"Mean Difference\",\n",
    ")\n",
    "plt.legend()\n",
    "plt.show()"
   ]
  },
  {
   "cell_type": "markdown",
   "id": "2176f7e770482059",
   "metadata": {},
   "source": "### Saving the processed dataset"
  },
  {
   "cell_type": "code",
   "execution_count": 131,
   "id": "d815c601a249fef",
   "metadata": {
    "ExecuteTime": {
     "end_time": "2025-06-02T20:53:06.550217Z",
     "start_time": "2025-06-02T20:53:06.137552Z"
    }
   },
   "outputs": [],
   "source": [
    "df[\"text\"] = df[\"processed_text\"]\n",
    "df = df[[\"text\", \"label\"]]\n",
    "df.to_csv(processed_file_path, index=False)"
   ]
  }
 ],
 "metadata": {
  "kernelspec": {
   "display_name": "Python 3",
   "language": "python",
   "name": "python3"
  },
  "language_info": {
   "codemirror_mode": {
    "name": "ipython",
    "version": 2
   },
   "file_extension": ".py",
   "mimetype": "text/x-python",
   "name": "python",
   "nbconvert_exporter": "python",
   "pygments_lexer": "ipython2",
   "version": "2.7.6"
  }
 },
 "nbformat": 4,
 "nbformat_minor": 5
}
