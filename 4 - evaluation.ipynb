{
 "cells": [
  {
   "cell_type": "markdown",
   "id": "5ec761a4c0ec0ff0",
   "metadata": {},
   "source": [
    "# Evaluation of Machine Learning Models for Sentiment Analysis"
   ]
  },
  {
   "cell_type": "markdown",
   "id": "4faea403f85a1790",
   "metadata": {},
   "source": [
    "### Imports"
   ]
  },
  {
   "cell_type": "code",
   "id": "initial_id",
   "metadata": {
    "collapsed": true,
    "ExecuteTime": {
     "end_time": "2025-06-03T07:56:49.345839Z",
     "start_time": "2025-06-03T07:56:49.335365Z"
    }
   },
   "source": [
    "import copy\n",
    "import time\n",
    "\n",
    "import matplotlib.pyplot as plt\n",
    "import numpy as np\n",
    "import pandas as pd\n",
    "import seaborn as sns\n",
    "from scipy import sparse\n",
    "from sklearn.ensemble import RandomForestClassifier, VotingClassifier\n",
    "from sklearn.feature_extraction.text import CountVectorizer\n",
    "from sklearn.linear_model import LogisticRegression\n",
    "from sklearn.metrics import (\n",
    "    accuracy_score,\n",
    "    confusion_matrix,\n",
    "    f1_score,\n",
    "    precision_score,\n",
    "    recall_score,\n",
    ")\n",
    "from sklearn.model_selection import cross_val_score, train_test_split\n",
    "from sklearn.preprocessing import LabelEncoder\n",
    "from sklearn.svm import SVC\n",
    "from sklearn.tree import DecisionTreeClassifier\n",
    "from tqdm import tqdm\n",
    "\n",
    "# warnings.filterwarnings(\"ignore\")"
   ],
   "outputs": [],
   "execution_count": 24
  },
  {
   "cell_type": "code",
   "id": "10ba72ad",
   "metadata": {
    "ExecuteTime": {
     "end_time": "2025-06-03T07:56:49.378724Z",
     "start_time": "2025-06-03T07:56:49.376183Z"
    }
   },
   "source": [
    "RF_N_ESTIMATORS = 50  # Random Forest trees\n",
    "LR_MAX_ITER = 500  # Logistic Regression iterations\n",
    "SVC_MAX_ITER = 100  # SVM iterations\n",
    "DT_MAX_DEPTH = 5  # Decision Tree depth\n",
    "CV_FOLDS = 3  # Cross-validation folds\n",
    "MAX_FEATURES = 5000  # BoW features"
   ],
   "outputs": [],
   "execution_count": 25
  },
  {
   "cell_type": "markdown",
   "id": "a707ecf35e2b3c43",
   "metadata": {},
   "source": [
    "## Preprocessing Steps"
   ]
  },
  {
   "cell_type": "code",
   "id": "3560cff81d193534",
   "metadata": {
    "ExecuteTime": {
     "end_time": "2025-06-03T07:56:49.636786Z",
     "start_time": "2025-06-03T07:56:49.399517Z"
    }
   },
   "source": [
    "df = pd.read_csv(\"data/reviews_sample_processed.csv\")"
   ],
   "outputs": [],
   "execution_count": 26
  },
  {
   "cell_type": "markdown",
   "id": "42a8f76b34d49c59",
   "metadata": {},
   "source": [
    "### Label Encoding\n",
    "\n",
    "This step converts 'positive' and 'negative' labels into numerical values (0 and 1)."
   ]
  },
  {
   "cell_type": "code",
   "id": "822ae0ad",
   "metadata": {
    "ExecuteTime": {
     "end_time": "2025-06-03T07:56:49.664220Z",
     "start_time": "2025-06-03T07:56:49.655172Z"
    }
   },
   "source": [
    "label_encoder = LabelEncoder()\n",
    "y = label_encoder.fit_transform(df[\"label\"])"
   ],
   "outputs": [],
   "execution_count": 27
  },
  {
   "cell_type": "code",
   "id": "d251310a7b4a2060",
   "metadata": {
    "ExecuteTime": {
     "end_time": "2025-06-03T07:56:49.683646Z",
     "start_time": "2025-06-03T07:56:49.681050Z"
    }
   },
   "source": [
    "print(\n",
    "    f\"Label encoding: {dict(zip(label_encoder.classes_, label_encoder.transform(label_encoder.classes_)))}\"\n",
    ")"
   ],
   "outputs": [
    {
     "name": "stdout",
     "output_type": "stream",
     "text": [
      "Label encoding: {'negative': np.int64(0), 'positive': np.int64(1)}\n"
     ]
    }
   ],
   "execution_count": 28
  },
  {
   "cell_type": "markdown",
   "id": "ae8008ca601118cf",
   "metadata": {},
   "source": [
    "### Bag of Words (BoW) Matrix Creation\n",
    "\n",
    "This step converts the text data into a numerical format based on frequency of words."
   ]
  },
  {
   "cell_type": "code",
   "id": "81d54772",
   "metadata": {
    "ExecuteTime": {
     "end_time": "2025-06-03T07:56:51.176172Z",
     "start_time": "2025-06-03T07:56:49.722473Z"
    }
   },
   "source": [
    "vectorizer = CountVectorizer(\n",
    "    max_features=MAX_FEATURES,\n",
    "    min_df=2,  # Ignore terms that appear in less than 2 documents\n",
    "    max_df=0.95,  # Ignore terms that appear in more than 95% of documents\n",
    "    stop_words=\"english\",\n",
    ")\n",
    "\n",
    "X = vectorizer.fit_transform(df[\"text\"])"
   ],
   "outputs": [],
   "execution_count": 29
  },
  {
   "cell_type": "code",
   "id": "23d88c775e3052d0",
   "metadata": {
    "ExecuteTime": {
     "end_time": "2025-06-03T07:56:51.194676Z",
     "start_time": "2025-06-03T07:56:51.192717Z"
    }
   },
   "source": [
    "print(f\"BoW matrix shape: {X.shape}\")"
   ],
   "outputs": [
    {
     "name": "stdout",
     "output_type": "stream",
     "text": [
      "BoW matrix shape: (69903, 5000)\n"
     ]
    }
   ],
   "execution_count": 30
  },
  {
   "cell_type": "markdown",
   "id": "5b29c1efcb96011c",
   "metadata": {},
   "source": [
    "### Splitting the Data"
   ]
  },
  {
   "cell_type": "code",
   "id": "dcf7b44253d57793",
   "metadata": {
    "ExecuteTime": {
     "end_time": "2025-06-03T07:56:51.252101Z",
     "start_time": "2025-06-03T07:56:51.224205Z"
    }
   },
   "source": [
    "X_train, X_test, y_train, y_test = train_test_split(\n",
    "    X, y, test_size=0.2, random_state=42, stratify=y\n",
    ")"
   ],
   "outputs": [],
   "execution_count": 31
  },
  {
   "cell_type": "code",
   "id": "89be3565d5f823e2",
   "metadata": {
    "ExecuteTime": {
     "end_time": "2025-06-03T07:56:51.270895Z",
     "start_time": "2025-06-03T07:56:51.268934Z"
    }
   },
   "source": [
    "print(f\"Training set shape: {X_train.shape}\")\n",
    "print(f\"Test set shape: {X_test.shape}\")"
   ],
   "outputs": [
    {
     "name": "stdout",
     "output_type": "stream",
     "text": [
      "Training set shape: (55922, 5000)\n",
      "Test set shape: (13981, 5000)\n"
     ]
    }
   ],
   "execution_count": 32
  },
  {
   "cell_type": "markdown",
   "id": "23ee149fa6c417fd",
   "metadata": {},
   "source": [
    "## Training and Evaluating Models"
   ]
  },
  {
   "cell_type": "code",
   "id": "830dc274f8266841",
   "metadata": {
    "ExecuteTime": {
     "end_time": "2025-06-03T07:56:51.295175Z",
     "start_time": "2025-06-03T07:56:51.291710Z"
    }
   },
   "source": [
    "results = {}\n",
    "\n",
    "\n",
    "def get_result(y_test, y_pred):\n",
    "    return {\n",
    "        \"test_accuracy\": accuracy_score(y_test, y_pred),\n",
    "        \"precision\": precision_score(y_test, y_pred, average=\"weighted\"),\n",
    "        \"recall\": recall_score(y_test, y_pred, average=\"weighted\"),\n",
    "        \"f1_score\": f1_score(y_test, y_pred, average=\"weighted\"),\n",
    "        \"predictions\": y_pred,\n",
    "        \"positive_precision\": precision_score(\n",
    "            y_test, y_pred, pos_label=1, average=\"binary\"\n",
    "        ),\n",
    "        \"positive_recall\": recall_score(y_test, y_pred, pos_label=1, average=\"binary\"),\n",
    "        \"positive_f1_score\": f1_score(y_test, y_pred, pos_label=1, average=\"binary\"),\n",
    "        \"negative_precision\": precision_score(\n",
    "            y_test, y_pred, pos_label=0, average=\"binary\"\n",
    "        ),\n",
    "        \"negative_recall\": recall_score(y_test, y_pred, pos_label=0, average=\"binary\"),\n",
    "        \"negative_f1_score\": f1_score(y_test, y_pred, pos_label=0, average=\"binary\"),\n",
    "    }\n",
    "\n",
    "\n",
    "base_classifiers = {\n",
    "    \"Decision Tree\": DecisionTreeClassifier(random_state=42, max_depth=DT_MAX_DEPTH),\n",
    "    \"Logistic Regression\": LogisticRegression(\n",
    "        random_state=42, max_iter=LR_MAX_ITER, verbose=1\n",
    "    ),\n",
    "    \"SVM\": SVC(\n",
    "        random_state=42,\n",
    "        max_iter=SVC_MAX_ITER,\n",
    "        probability=True,\n",
    "        kernel=\"linear\",\n",
    "        verbose=True,\n",
    "    ),\n",
    "}"
   ],
   "outputs": [],
   "execution_count": 33
  },
  {
   "cell_type": "markdown",
   "id": "95f055ae14ddd47c",
   "metadata": {},
   "source": [
    "### Random Forest"
   ]
  },
  {
   "cell_type": "code",
   "id": "cc287505716b591b",
   "metadata": {
    "ExecuteTime": {
     "end_time": "2025-06-03T07:56:51.718038Z",
     "start_time": "2025-06-03T07:56:51.314456Z"
    }
   },
   "source": [
    "start_time = time.time()\n",
    "\n",
    "rf_clf = RandomForestClassifier(\n",
    "    n_estimators=RF_N_ESTIMATORS, random_state=42, max_depth=DT_MAX_DEPTH, verbose=1\n",
    ")\n",
    "\n",
    "rf_clf.fit(X_train, y_train)\n",
    "y_pred_rf = rf_clf.predict(X_test)\n",
    "\n",
    "results[\"Random Forest\"] = get_result(y_test, y_pred_rf)"
   ],
   "outputs": [
    {
     "name": "stderr",
     "output_type": "stream",
     "text": [
      "[Parallel(n_jobs=1)]: Done  49 tasks      | elapsed:    0.3s\n",
      "[Parallel(n_jobs=1)]: Done  50 out of  50 | elapsed:    0.3s finished\n",
      "[Parallel(n_jobs=1)]: Done  49 tasks      | elapsed:    0.0s\n",
      "[Parallel(n_jobs=1)]: Done  50 out of  50 | elapsed:    0.0s finished\n"
     ]
    }
   ],
   "execution_count": 34
  },
  {
   "cell_type": "markdown",
   "id": "bde31c537c7f44d1",
   "metadata": {},
   "source": [
    "### Soft Voting (Averaged Voting)"
   ]
  },
  {
   "cell_type": "code",
   "id": "350bae62c1622191",
   "metadata": {
    "ExecuteTime": {
     "end_time": "2025-06-03T07:57:10.944772Z",
     "start_time": "2025-06-03T07:56:51.735708Z"
    }
   },
   "source": [
    "soft_voting_clf = VotingClassifier(\n",
    "    estimators=[\n",
    "        (\"dt\", base_classifiers[\"Decision Tree\"]),\n",
    "        (\"lr\", base_classifiers[\"Logistic Regression\"]),\n",
    "        (\"svm\", base_classifiers[\"SVM\"]),\n",
    "    ],\n",
    "    voting=\"soft\",\n",
    ")\n",
    "soft_voting_clf.fit(X_train, y_train)\n",
    "y_pred_soft = soft_voting_clf.predict(X_test)\n",
    "\n",
    "results[\"Averaged Voting\"] = get_result(y_test, y_pred_soft)"
   ],
   "outputs": [
    {
     "name": "stderr",
     "output_type": "stream",
     "text": [
      "[Parallel(n_jobs=1)]: Done   1 out of   1 | elapsed:    0.5s finished\n"
     ]
    },
    {
     "name": "stdout",
     "output_type": "stream",
     "text": [
      "[LibSVM]WARN: libsvm Solver reached max_iter\n",
      "optimization finished, #iter = 100\n",
      "obj = -7.025088, rho = 0.706018\n",
      "nSV = 195, nBSV = 0\n",
      "Total nSV = 195\n",
      "WARN: libsvm Solver reached max_iter\n",
      "optimization finished, #iter = 100\n",
      "obj = -8.606189, rho = 0.678301\n",
      "nSV = 199, nBSV = 0\n",
      "Total nSV = 199\n",
      "WARN: libsvm Solver reached max_iter\n",
      "optimization finished, #iter = 100\n",
      "obj = -7.082056, rho = 0.940233\n",
      "nSV = 195, nBSV = 0\n",
      "Total nSV = 195\n",
      "WARN: libsvm Solver reached max_iter\n",
      "optimization finished, #iter = 100\n",
      "obj = -7.935078, rho = 0.899133\n",
      "nSV = 193, nBSV = 0\n",
      "Total nSV = 193\n",
      "WARN: libsvm Solver reached max_iter\n",
      "optimization finished, #iter = 100\n",
      "obj = -7.967616, rho = 0.380767\n",
      "nSV = 194, nBSV = 0\n",
      "Total nSV = 194\n",
      "WARN: libsvm Solver reached max_iter\n",
      "optimization finished, #iter = 100\n",
      "obj = -7.822860, rho = 0.983328\n",
      "nSV = 198, nBSV = 0\n",
      "Total nSV = 198\n"
     ]
    },
    {
     "name": "stderr",
     "output_type": "stream",
     "text": [
      "/Users/amir/Documents/personal/DataMiningProject/.venv/lib/python3.11/site-packages/sklearn/svm/_base.py:305: ConvergenceWarning: Solver terminated early (max_iter=100).  Consider pre-processing your data with StandardScaler or MinMaxScaler.\n",
      "  warnings.warn(\n"
     ]
    }
   ],
   "execution_count": 35
  },
  {
   "cell_type": "markdown",
   "id": "25e3815c79af59a8",
   "metadata": {},
   "source": [
    "### Hard Voting (Majority Voting)"
   ]
  },
  {
   "cell_type": "code",
   "id": "e316ab3a8f49401d",
   "metadata": {
    "ExecuteTime": {
     "end_time": "2025-06-03T07:57:29.943366Z",
     "start_time": "2025-06-03T07:57:10.971825Z"
    }
   },
   "source": [
    "hard_voting_clf = VotingClassifier(\n",
    "    estimators=[\n",
    "        (\"dt\", base_classifiers[\"Decision Tree\"]),\n",
    "        (\"lr\", base_classifiers[\"Logistic Regression\"]),\n",
    "        (\"svm\", base_classifiers[\"SVM\"]),\n",
    "    ],\n",
    "    voting=\"hard\",\n",
    ")\n",
    "hard_voting_clf.fit(X_train, y_train)\n",
    "y_pred_hard = hard_voting_clf.predict(X_test)\n",
    "\n",
    "results[\"Majority Voting\"] = get_result(y_test, y_pred_hard)"
   ],
   "outputs": [
    {
     "name": "stderr",
     "output_type": "stream",
     "text": [
      "[Parallel(n_jobs=1)]: Done   1 out of   1 | elapsed:    0.5s finished\n"
     ]
    },
    {
     "name": "stdout",
     "output_type": "stream",
     "text": [
      "[LibSVM]WARN: libsvm Solver reached max_iter\n",
      "optimization finished, #iter = 100\n",
      "obj = -7.025088, rho = 0.706018\n",
      "nSV = 195, nBSV = 0\n",
      "Total nSV = 195\n",
      "WARN: libsvm Solver reached max_iter\n",
      "optimization finished, #iter = 100\n",
      "obj = -8.606189, rho = 0.678301\n",
      "nSV = 199, nBSV = 0\n",
      "Total nSV = 199\n",
      "WARN: libsvm Solver reached max_iter\n",
      "optimization finished, #iter = 100\n",
      "obj = -7.082056, rho = 0.940233\n",
      "nSV = 195, nBSV = 0\n",
      "Total nSV = 195\n",
      "WARN: libsvm Solver reached max_iter\n",
      "optimization finished, #iter = 100\n",
      "obj = -7.935078, rho = 0.899133\n",
      "nSV = 193, nBSV = 0\n",
      "Total nSV = 193\n",
      "WARN: libsvm Solver reached max_iter\n",
      "optimization finished, #iter = 100\n",
      "obj = -7.967616, rho = 0.380767\n",
      "nSV = 194, nBSV = 0\n",
      "Total nSV = 194\n",
      "WARN: libsvm Solver reached max_iter\n",
      "optimization finished, #iter = 100\n",
      "obj = -7.822860, rho = 0.983328\n",
      "nSV = 198, nBSV = 0\n",
      "Total nSV = 198\n"
     ]
    },
    {
     "name": "stderr",
     "output_type": "stream",
     "text": [
      "/Users/amir/Documents/personal/DataMiningProject/.venv/lib/python3.11/site-packages/sklearn/svm/_base.py:305: ConvergenceWarning: Solver terminated early (max_iter=100).  Consider pre-processing your data with StandardScaler or MinMaxScaler.\n",
      "  warnings.warn(\n"
     ]
    }
   ],
   "execution_count": 36
  },
  {
   "cell_type": "markdown",
   "id": "abdf468baa2a1583",
   "metadata": {},
   "source": [
    "### Weighted Voting"
   ]
  },
  {
   "cell_type": "code",
   "id": "3214119c22423f76",
   "metadata": {
    "ExecuteTime": {
     "end_time": "2025-06-03T07:58:24.134785Z",
     "start_time": "2025-06-03T07:57:29.960003Z"
    }
   },
   "source": [
    "cv_scores = {}\n",
    "for name, clf in tqdm(base_classifiers.items(), desc=\"CV Scoring\"):\n",
    "    scores = cross_val_score(clf, X_train, y_train, cv=CV_FOLDS, scoring=\"accuracy\")\n",
    "    cv_scores[name] = scores.mean()\n",
    "\n",
    "# Normalize weights\n",
    "total_score = sum(cv_scores.values())\n",
    "weights = [\n",
    "    cv_scores[\"Decision Tree\"] / total_score,\n",
    "    cv_scores[\"Logistic Regression\"] / total_score,\n",
    "    cv_scores[\"SVM\"] / total_score,\n",
    "]\n",
    "\n",
    "weighted_voting_clf = VotingClassifier(\n",
    "    estimators=[\n",
    "        (\"dt\", base_classifiers[\"Decision Tree\"]),\n",
    "        (\"lr\", base_classifiers[\"Logistic Regression\"]),\n",
    "        (\"svm\", base_classifiers[\"SVM\"]),\n",
    "    ],\n",
    "    voting=\"soft\",\n",
    "    weights=weights,\n",
    ")\n",
    "weighted_voting_clf.fit(X_train, y_train)\n",
    "y_pred_weighted = weighted_voting_clf.predict(X_test)\n",
    "\n",
    "results[\"Weighted Voting\"] = get_result(y_test, y_pred_weighted)"
   ],
   "outputs": [
    {
     "name": "stderr",
     "output_type": "stream",
     "text": [
      "CV Scoring:  33%|███▎      | 1/3 [00:00<00:01,  1.78it/s][Parallel(n_jobs=1)]: Done   1 out of   1 | elapsed:    0.3s finished\n",
      "[Parallel(n_jobs=1)]: Done   1 out of   1 | elapsed:    0.3s finished\n",
      "[Parallel(n_jobs=1)]: Done   1 out of   1 | elapsed:    0.3s finished\n",
      "CV Scoring:  67%|██████▋   | 2/3 [00:01<00:00,  1.14it/s]"
     ]
    },
    {
     "name": "stdout",
     "output_type": "stream",
     "text": [
      "[LibSVM]WARN: libsvm Solver reached max_iter\n",
      "optimization finished, #iter = 100\n",
      "obj = -8.703758, rho = 0.671195\n",
      "nSV = 196, nBSV = 0\n",
      "Total nSV = 196\n",
      "WARN: libsvm Solver reached max_iter\n",
      "optimization finished, #iter = 100\n",
      "obj = -8.229745, rho = 0.627930\n",
      "nSV = 195, nBSV = 0\n",
      "Total nSV = 195\n",
      "WARN: libsvm Solver reached max_iter\n",
      "optimization finished, #iter = 100\n",
      "obj = -9.900354, rho = 0.687802\n",
      "nSV = 197, nBSV = 0\n",
      "Total nSV = 197\n",
      "WARN: libsvm Solver reached max_iter\n",
      "optimization finished, #iter = 100\n",
      "obj = -8.835204, rho = 0.567349\n",
      "nSV = 196, nBSV = 0\n",
      "Total nSV = 196\n",
      "WARN: libsvm Solver reached max_iter\n",
      "optimization finished, #iter = 100\n",
      "obj = -7.716500, rho = 0.669582\n",
      "nSV = 193, nBSV = 1\n",
      "Total nSV = 193\n",
      "WARN: libsvm Solver reached max_iter\n",
      "optimization finished, #iter = 100\n",
      "obj = -8.270682, rho = 0.644997\n",
      "nSV = 198, nBSV = 0\n",
      "Total nSV = 198\n"
     ]
    },
    {
     "name": "stderr",
     "output_type": "stream",
     "text": [
      "/Users/amir/Documents/personal/DataMiningProject/.venv/lib/python3.11/site-packages/sklearn/svm/_base.py:305: ConvergenceWarning: Solver terminated early (max_iter=100).  Consider pre-processing your data with StandardScaler or MinMaxScaler.\n",
      "  warnings.warn(\n"
     ]
    },
    {
     "name": "stdout",
     "output_type": "stream",
     "text": [
      "[LibSVM]WARN: libsvm Solver reached max_iter\n",
      "optimization finished, #iter = 100\n",
      "obj = -8.889357, rho = 0.906439\n",
      "nSV = 197, nBSV = 0\n",
      "Total nSV = 197\n",
      "WARN: libsvm Solver reached max_iter\n",
      "optimization finished, #iter = 100\n",
      "obj = -8.872053, rho = 0.818111\n",
      "nSV = 197, nBSV = 0\n",
      "Total nSV = 197\n",
      "WARN: libsvm Solver reached max_iter\n",
      "optimization finished, #iter = 100\n",
      "obj = -8.748964, rho = 0.908294\n",
      "nSV = 194, nBSV = 0\n",
      "Total nSV = 194\n",
      "WARN: libsvm Solver reached max_iter\n",
      "optimization finished, #iter = 100\n",
      "obj = -8.046676, rho = 1.013602\n",
      "nSV = 195, nBSV = 0\n",
      "Total nSV = 195\n",
      "WARN: libsvm Solver reached max_iter\n",
      "optimization finished, #iter = 100\n",
      "obj = -8.206369, rho = 1.244511\n",
      "nSV = 191, nBSV = 0\n",
      "Total nSV = 191\n",
      "WARN: libsvm Solver reached max_iter\n",
      "optimization finished, #iter = 100\n",
      "obj = -8.401859, rho = 0.715975\n",
      "nSV = 198, nBSV = 0\n",
      "Total nSV = 198\n"
     ]
    },
    {
     "name": "stderr",
     "output_type": "stream",
     "text": [
      "/Users/amir/Documents/personal/DataMiningProject/.venv/lib/python3.11/site-packages/sklearn/svm/_base.py:305: ConvergenceWarning: Solver terminated early (max_iter=100).  Consider pre-processing your data with StandardScaler or MinMaxScaler.\n",
      "  warnings.warn(\n"
     ]
    },
    {
     "name": "stdout",
     "output_type": "stream",
     "text": [
      "[LibSVM]WARN: libsvm Solver reached max_iter\n",
      "optimization finished, #iter = 100\n",
      "obj = -7.465139, rho = 0.933372\n",
      "nSV = 196, nBSV = 0\n",
      "Total nSV = 196\n",
      "WARN: libsvm Solver reached max_iter\n",
      "optimization finished, #iter = 100\n",
      "obj = -7.939473, rho = 0.887560\n",
      "nSV = 196, nBSV = 1\n",
      "Total nSV = 196\n",
      "WARN: libsvm Solver reached max_iter\n",
      "optimization finished, #iter = 100\n",
      "obj = -7.922568, rho = 1.102556\n",
      "nSV = 194, nBSV = 0\n",
      "Total nSV = 194\n",
      "WARN: libsvm Solver reached max_iter\n",
      "optimization finished, #iter = 100\n",
      "obj = -8.895251, rho = 1.158251\n",
      "nSV = 192, nBSV = 1\n",
      "Total nSV = 192\n",
      "WARN: libsvm Solver reached max_iter\n",
      "optimization finished, #iter = 100\n",
      "obj = -7.907891, rho = 0.950398\n",
      "nSV = 197, nBSV = 0\n",
      "Total nSV = 197\n",
      "WARN: libsvm Solver reached max_iter\n",
      "optimization finished, #iter = 100\n",
      "obj = -7.674907, rho = 0.651152\n",
      "nSV = 199, nBSV = 0\n",
      "Total nSV = 199\n"
     ]
    },
    {
     "name": "stderr",
     "output_type": "stream",
     "text": [
      "/Users/amir/Documents/personal/DataMiningProject/.venv/lib/python3.11/site-packages/sklearn/svm/_base.py:305: ConvergenceWarning: Solver terminated early (max_iter=100).  Consider pre-processing your data with StandardScaler or MinMaxScaler.\n",
      "  warnings.warn(\n",
      "CV Scoring: 100%|██████████| 3/3 [00:35<00:00, 11.85s/it]\n",
      "[Parallel(n_jobs=1)]: Done   1 out of   1 | elapsed:    0.5s finished\n"
     ]
    },
    {
     "name": "stdout",
     "output_type": "stream",
     "text": [
      "[LibSVM]WARN: libsvm Solver reached max_iter\n",
      "optimization finished, #iter = 100\n",
      "obj = -7.025088, rho = 0.706018\n",
      "nSV = 195, nBSV = 0\n",
      "Total nSV = 195\n",
      "WARN: libsvm Solver reached max_iter\n",
      "optimization finished, #iter = 100\n",
      "obj = -8.606189, rho = 0.678301\n",
      "nSV = 199, nBSV = 0\n",
      "Total nSV = 199\n",
      "WARN: libsvm Solver reached max_iter\n",
      "optimization finished, #iter = 100\n",
      "obj = -7.082056, rho = 0.940233\n",
      "nSV = 195, nBSV = 0\n",
      "Total nSV = 195\n",
      "WARN: libsvm Solver reached max_iter\n",
      "optimization finished, #iter = 100\n",
      "obj = -7.935078, rho = 0.899133\n",
      "nSV = 193, nBSV = 0\n",
      "Total nSV = 193\n",
      "WARN: libsvm Solver reached max_iter\n",
      "optimization finished, #iter = 100\n",
      "obj = -7.967616, rho = 0.380767\n",
      "nSV = 194, nBSV = 0\n",
      "Total nSV = 194\n",
      "WARN: libsvm Solver reached max_iter\n",
      "optimization finished, #iter = 100\n",
      "obj = -7.822860, rho = 0.983328\n",
      "nSV = 198, nBSV = 0\n",
      "Total nSV = 198\n"
     ]
    },
    {
     "name": "stderr",
     "output_type": "stream",
     "text": [
      "/Users/amir/Documents/personal/DataMiningProject/.venv/lib/python3.11/site-packages/sklearn/svm/_base.py:305: ConvergenceWarning: Solver terminated early (max_iter=100).  Consider pre-processing your data with StandardScaler or MinMaxScaler.\n",
      "  warnings.warn(\n"
     ]
    }
   ],
   "execution_count": 37
  },
  {
   "cell_type": "markdown",
   "id": "8307d870039cd2ec",
   "metadata": {},
   "source": [
    "### Q-Learning in Ensemble Learning\n",
    "\n",
    "This is the method provided by the paper. We use Q-learning method in updating the weights of the classifiers in the ensemble."
   ]
  },
  {
   "cell_type": "code",
   "id": "af032f79d5c8c15f",
   "metadata": {
    "ExecuteTime": {
     "end_time": "2025-06-03T07:59:17.045015Z",
     "start_time": "2025-06-03T07:59:17.033872Z"
    }
   },
   "source": [
    "class StatelessQLearningEnsemble:\n",
    "    def __init__(\n",
    "        self,\n",
    "        base_classifiers,\n",
    "        gamma=0.95,\n",
    "        tau_initial=1.0,\n",
    "        tau_min=0.01,\n",
    "        alpha=0.1,\n",
    "        max_episodes=100,\n",
    "    ):\n",
    "        self.base_classifiers = base_classifiers\n",
    "        self.classifier_names = list(base_classifiers.keys())\n",
    "        self.n_actions = len(base_classifiers)\n",
    "\n",
    "        # Q-learning parameters\n",
    "        self.gamma = gamma\n",
    "        self.tau = tau_initial\n",
    "        self.tau_min = tau_min\n",
    "        self.alpha = alpha\n",
    "        self.max_episodes = max_episodes\n",
    "\n",
    "        self.Q_table = {}\n",
    "\n",
    "        self.trained_classifiers = {}\n",
    "\n",
    "    def _get_state_key(self, x):\n",
    "        return tuple(np.round(x, decimals=2))\n",
    "\n",
    "    def _get_sample(self, X, index):\n",
    "        if sparse.issparse(X):\n",
    "            return X[index].toarray().flatten()\n",
    "        else:\n",
    "            return X[index]\n",
    "\n",
    "    def _boltzmann_action_selection(self, state_key):\n",
    "        if state_key not in self.Q_table:\n",
    "            self.Q_table[state_key] = np.zeros(self.n_actions)\n",
    "\n",
    "        Q_values = self.Q_table[state_key]\n",
    "\n",
    "        # Boltzmann equation: p(s_i, a) = e^(Q(s_i,a)/τ) / Σ_a∈A e^(Q(s_i,a)/τ)\n",
    "        exp_values = np.exp(Q_values / max(self.tau, self.tau_min))\n",
    "        probabilities = exp_values / np.sum(exp_values)\n",
    "\n",
    "        action = np.random.choice(self.n_actions, p=probabilities)\n",
    "        return action\n",
    "\n",
    "    def _calculate_reward(self, classifier_name, X_sample, y_sample):\n",
    "        if classifier_name not in self.trained_classifiers:\n",
    "            return 0\n",
    "\n",
    "        pred = self.trained_classifiers[classifier_name].predict(\n",
    "            X_sample.reshape(1, -1)\n",
    "        )\n",
    "        reward = 1.0 if pred[0] == y_sample else 0.0\n",
    "        return reward\n",
    "\n",
    "    def _update_q_table(self, state_key, action, reward):\n",
    "        if state_key not in self.Q_table:\n",
    "            self.Q_table[state_key] = np.zeros(self.n_actions)\n",
    "\n",
    "        # Q_new(a) = (1-α)Q(a) + α[r + γ * max_a Q(a')]\n",
    "        current_q = self.Q_table[state_key][action]\n",
    "        max_future_q = np.max(self.Q_table[state_key])\n",
    "\n",
    "        new_q = (1 - self.alpha) * current_q + self.alpha * (\n",
    "            reward + self.gamma * max_future_q\n",
    "        )\n",
    "        self.Q_table[state_key][action] = new_q\n",
    "\n",
    "    def fit(self, X_train, y_train):\n",
    "        for name, classifier in self.base_classifiers.items():\n",
    "            self.trained_classifiers[name] = copy.deepcopy(classifier)\n",
    "            self.trained_classifiers[name].fit(X_train, y_train)\n",
    "\n",
    "        n_samples = X_train.shape[0]\n",
    "\n",
    "        # Q-learning component (Algorithm 2)\n",
    "        for episode in tqdm(range(self.max_episodes)):\n",
    "            for i in range(n_samples):\n",
    "                X_sample = self._get_sample(X_train, i)\n",
    "                state_key = self._get_state_key(X_sample)\n",
    "\n",
    "                # Select action using Boltzmann equation\n",
    "                action = self._boltzmann_action_selection(state_key)\n",
    "                classifier_name = self.classifier_names[action]\n",
    "\n",
    "                # Execute action and observe reward\n",
    "                reward = self._calculate_reward(classifier_name, X_sample, y_train[i])\n",
    "\n",
    "                # Update Q-table\n",
    "                self._update_q_table(state_key, action, reward)\n",
    "\n",
    "            # Scale down temperature\n",
    "            self.tau = max(self.tau * 0.99, self.tau_min)\n",
    "\n",
    "    def predict(self, X_test):\n",
    "        predictions = []\n",
    "        n_test_samples = X_test.shape[0]\n",
    "\n",
    "        for i in range(n_test_samples):\n",
    "            X_sample = self._get_sample(X_test, i)\n",
    "            state_key = self._get_state_key(X_sample)\n",
    "\n",
    "            if state_key in self.Q_table:\n",
    "                action = np.argmax(self.Q_table[state_key])\n",
    "            else:\n",
    "                action = np.random.choice(self.n_actions)\n",
    "\n",
    "            classifier_name = self.classifier_names[action]\n",
    "\n",
    "            if classifier_name in self.trained_classifiers:\n",
    "                if X_sample.ndim == 1:\n",
    "                    X_sample = X_sample.reshape(1, -1)\n",
    "\n",
    "                pred = self.trained_classifiers[classifier_name].predict(X_sample)\n",
    "                predictions.append(pred[0])\n",
    "            else:\n",
    "                all_preds = []\n",
    "                for clf_name, clf in self.trained_classifiers.items():\n",
    "                    if X_sample.ndim == 1:\n",
    "                        X_sample = X_sample.reshape(1, -1)\n",
    "                    pred = clf.predict(X_sample)\n",
    "                    all_preds.append(pred[0])\n",
    "                predictions.append(max(set(all_preds), key=all_preds.count))\n",
    "\n",
    "        return np.array(predictions)"
   ],
   "outputs": [],
   "execution_count": 40
  },
  {
   "cell_type": "code",
   "id": "647a5aacb909d333",
   "metadata": {
    "ExecuteTime": {
     "end_time": "2025-06-03T08:04:39.414123Z",
     "start_time": "2025-06-03T08:02:30.487909Z"
    }
   },
   "source": [
    "ql_ensemble = StatelessQLearningEnsemble(\n",
    "    base_classifiers=base_classifiers,\n",
    "    gamma=0.95,\n",
    "    tau_initial=1.0,\n",
    "    tau_min=0.01,\n",
    "    alpha=0.1,\n",
    "    max_episodes=3,\n",
    ")\n",
    "\n",
    "ql_ensemble.fit(X_train, y_train)\n",
    "y_pred_ql = ql_ensemble.predict(X_test)\n",
    "\n",
    "results[\"Q-Learning Ensemble\"] = get_result(y_test, y_pred_ql)"
   ],
   "outputs": [
    {
     "name": "stderr",
     "output_type": "stream",
     "text": [
      "[Parallel(n_jobs=1)]: Done   1 out of   1 | elapsed:    0.5s finished\n"
     ]
    },
    {
     "name": "stdout",
     "output_type": "stream",
     "text": [
      "[LibSVM]WARN: libsvm Solver reached max_iter\n",
      "optimization finished, #iter = 100\n",
      "obj = -7.025088, rho = 0.706018\n",
      "nSV = 195, nBSV = 0\n",
      "Total nSV = 195\n",
      "WARN: libsvm Solver reached max_iter\n",
      "optimization finished, #iter = 100\n",
      "obj = -8.606189, rho = 0.678301\n",
      "nSV = 199, nBSV = 0\n",
      "Total nSV = 199\n",
      "WARN: libsvm Solver reached max_iter\n",
      "optimization finished, #iter = 100\n",
      "obj = -7.082056, rho = 0.940233\n",
      "nSV = 195, nBSV = 0\n",
      "Total nSV = 195\n",
      "WARN: libsvm Solver reached max_iter\n",
      "optimization finished, #iter = 100\n",
      "obj = -7.935078, rho = 0.899133\n",
      "nSV = 193, nBSV = 0\n",
      "Total nSV = 193\n",
      "WARN: libsvm Solver reached max_iter\n",
      "optimization finished, #iter = 100\n",
      "obj = -7.967616, rho = 0.380767\n",
      "nSV = 194, nBSV = 0\n",
      "Total nSV = 194\n"
     ]
    },
    {
     "name": "stderr",
     "output_type": "stream",
     "text": [
      "/Users/amir/Documents/personal/DataMiningProject/.venv/lib/python3.11/site-packages/sklearn/svm/_base.py:305: ConvergenceWarning: Solver terminated early (max_iter=100).  Consider pre-processing your data with StandardScaler or MinMaxScaler.\n",
      "  warnings.warn(\n"
     ]
    },
    {
     "name": "stdout",
     "output_type": "stream",
     "text": [
      "WARN: libsvm Solver reached max_iter\n",
      "optimization finished, #iter = 100\n",
      "obj = -7.822860, rho = 0.983328\n",
      "nSV = 198, nBSV = 0\n",
      "Total nSV = 198\n"
     ]
    },
    {
     "name": "stderr",
     "output_type": "stream",
     "text": [
      "100%|██████████| 3/3 [01:46<00:00, 35.49s/it]\n"
     ]
    }
   ],
   "execution_count": 42
  },
  {
   "cell_type": "markdown",
   "id": "331dba48c2499cc9",
   "metadata": {},
   "source": [
    "## Results Summary and Visualization"
   ]
  },
  {
   "cell_type": "code",
   "id": "96c79bc0",
   "metadata": {
    "ExecuteTime": {
     "end_time": "2025-06-03T08:04:51.812031Z",
     "start_time": "2025-06-03T08:04:51.806892Z"
    }
   },
   "source": [
    "results_df = pd.DataFrame(results).T\n",
    "results_df = results_df[\n",
    "    [\n",
    "        \"test_accuracy\",\n",
    "        \"precision\",\n",
    "        \"recall\",\n",
    "        \"f1_score\",\n",
    "        \"positive_precision\",\n",
    "        \"positive_recall\",\n",
    "        \"positive_f1_score\",\n",
    "        \"negative_precision\",\n",
    "        \"negative_recall\",\n",
    "        \"negative_f1_score\",\n",
    "    ]\n",
    "]\n",
    "results_df.columns = [\n",
    "    \"Accuracy\",\n",
    "    \"Precision\",\n",
    "    \"Recall\",\n",
    "    \"F1-Score\",\n",
    "    \"Positive Precision\",\n",
    "    \"Positive Recall\",\n",
    "    \"Positive F1-Score\",\n",
    "    \"Negative Precision\",\n",
    "    \"Negative Recall\",\n",
    "    \"Negative F1-Score\",\n",
    "]\n",
    "results_df = results_df.reset_index().rename(columns={\"index\": \"Model\"})\n",
    "results_df = results_df.round(4)"
   ],
   "outputs": [],
   "execution_count": 44
  },
  {
   "cell_type": "code",
   "id": "ab8ceea8f1da211f",
   "metadata": {
    "ExecuteTime": {
     "end_time": "2025-06-03T08:05:15.133055Z",
     "start_time": "2025-06-03T08:05:15.104968Z"
    }
   },
   "source": [
    "results_df"
   ],
   "outputs": [
    {
     "data": {
      "text/plain": [
       "                 Model  Accuracy Precision    Recall  F1-Score  \\\n",
       "0        Random Forest  0.689793  0.778217  0.689793  0.580932   \n",
       "1      Averaged Voting  0.855089  0.865139  0.855089  0.845702   \n",
       "2      Majority Voting  0.773121  0.792341  0.773121  0.741599   \n",
       "3      Weighted Voting  0.870539  0.875902  0.870539  0.864377   \n",
       "4  Q-Learning Ensemble   0.76604  0.762983   0.76604  0.745794   \n",
       "\n",
       "  Positive Precision Positive Recall Positive F1-Score Negative Precision  \\\n",
       "0           0.684268        0.999148          0.812259            0.97037   \n",
       "1           0.835826        0.975932          0.900462           0.925091   \n",
       "2           0.758738        0.970927          0.851817           0.861069   \n",
       "3           0.856203        0.970181          0.909636           0.916193   \n",
       "4            0.77025        0.928647          0.842065            0.74812   \n",
       "\n",
       "  Negative Recall Negative F1-Score  \n",
       "0        0.057068          0.107797  \n",
       "1        0.607929          0.733701  \n",
       "2        0.368547          0.516168  \n",
       "3        0.666739           0.77181  \n",
       "4        0.433457           0.54889  "
      ],
      "text/html": [
       "<div>\n",
       "<style scoped>\n",
       "    .dataframe tbody tr th:only-of-type {\n",
       "        vertical-align: middle;\n",
       "    }\n",
       "\n",
       "    .dataframe tbody tr th {\n",
       "        vertical-align: top;\n",
       "    }\n",
       "\n",
       "    .dataframe thead th {\n",
       "        text-align: right;\n",
       "    }\n",
       "</style>\n",
       "<table border=\"1\" class=\"dataframe\">\n",
       "  <thead>\n",
       "    <tr style=\"text-align: right;\">\n",
       "      <th></th>\n",
       "      <th>Model</th>\n",
       "      <th>Accuracy</th>\n",
       "      <th>Precision</th>\n",
       "      <th>Recall</th>\n",
       "      <th>F1-Score</th>\n",
       "      <th>Positive Precision</th>\n",
       "      <th>Positive Recall</th>\n",
       "      <th>Positive F1-Score</th>\n",
       "      <th>Negative Precision</th>\n",
       "      <th>Negative Recall</th>\n",
       "      <th>Negative F1-Score</th>\n",
       "    </tr>\n",
       "  </thead>\n",
       "  <tbody>\n",
       "    <tr>\n",
       "      <th>0</th>\n",
       "      <td>Random Forest</td>\n",
       "      <td>0.689793</td>\n",
       "      <td>0.778217</td>\n",
       "      <td>0.689793</td>\n",
       "      <td>0.580932</td>\n",
       "      <td>0.684268</td>\n",
       "      <td>0.999148</td>\n",
       "      <td>0.812259</td>\n",
       "      <td>0.97037</td>\n",
       "      <td>0.057068</td>\n",
       "      <td>0.107797</td>\n",
       "    </tr>\n",
       "    <tr>\n",
       "      <th>1</th>\n",
       "      <td>Averaged Voting</td>\n",
       "      <td>0.855089</td>\n",
       "      <td>0.865139</td>\n",
       "      <td>0.855089</td>\n",
       "      <td>0.845702</td>\n",
       "      <td>0.835826</td>\n",
       "      <td>0.975932</td>\n",
       "      <td>0.900462</td>\n",
       "      <td>0.925091</td>\n",
       "      <td>0.607929</td>\n",
       "      <td>0.733701</td>\n",
       "    </tr>\n",
       "    <tr>\n",
       "      <th>2</th>\n",
       "      <td>Majority Voting</td>\n",
       "      <td>0.773121</td>\n",
       "      <td>0.792341</td>\n",
       "      <td>0.773121</td>\n",
       "      <td>0.741599</td>\n",
       "      <td>0.758738</td>\n",
       "      <td>0.970927</td>\n",
       "      <td>0.851817</td>\n",
       "      <td>0.861069</td>\n",
       "      <td>0.368547</td>\n",
       "      <td>0.516168</td>\n",
       "    </tr>\n",
       "    <tr>\n",
       "      <th>3</th>\n",
       "      <td>Weighted Voting</td>\n",
       "      <td>0.870539</td>\n",
       "      <td>0.875902</td>\n",
       "      <td>0.870539</td>\n",
       "      <td>0.864377</td>\n",
       "      <td>0.856203</td>\n",
       "      <td>0.970181</td>\n",
       "      <td>0.909636</td>\n",
       "      <td>0.916193</td>\n",
       "      <td>0.666739</td>\n",
       "      <td>0.77181</td>\n",
       "    </tr>\n",
       "    <tr>\n",
       "      <th>4</th>\n",
       "      <td>Q-Learning Ensemble</td>\n",
       "      <td>0.76604</td>\n",
       "      <td>0.762983</td>\n",
       "      <td>0.76604</td>\n",
       "      <td>0.745794</td>\n",
       "      <td>0.77025</td>\n",
       "      <td>0.928647</td>\n",
       "      <td>0.842065</td>\n",
       "      <td>0.74812</td>\n",
       "      <td>0.433457</td>\n",
       "      <td>0.54889</td>\n",
       "    </tr>\n",
       "  </tbody>\n",
       "</table>\n",
       "</div>"
      ]
     },
     "execution_count": 45,
     "metadata": {},
     "output_type": "execute_result"
    }
   ],
   "execution_count": 45
  },
  {
   "cell_type": "markdown",
   "id": "c0e4c67ad151239d",
   "metadata": {},
   "source": [
    "### Plots"
   ]
  },
  {
   "cell_type": "markdown",
   "id": "568967fe3e1d5d84",
   "metadata": {},
   "source": [
    "#### Confusion Matrices"
   ]
  },
  {
   "cell_type": "code",
   "id": "8038b0f5",
   "metadata": {
    "ExecuteTime": {
     "end_time": "2025-06-03T08:06:05.853592Z",
     "start_time": "2025-06-03T08:05:32.260083Z"
    }
   },
   "source": [
    "n_models = len(results)\n",
    "n_cols = 3\n",
    "n_rows = (n_models + n_cols - 1) // n_cols\n",
    "\n",
    "fig, axes = plt.subplots(n_rows, n_cols, figsize=(15, 5 * n_rows))\n",
    "\n",
    "if n_rows == 1:\n",
    "    axes = axes.reshape(1, -1)\n",
    "axes_flat = axes.flatten()\n",
    "\n",
    "for i, (model_name, result) in enumerate(results.items()):\n",
    "    ax = axes_flat[i]\n",
    "    cm = confusion_matrix(y_test, result[\"predictions\"])\n",
    "    sns.heatmap(\n",
    "        cm,\n",
    "        annot=True,\n",
    "        fmt=\"d\",\n",
    "        cmap=\"Blues\",\n",
    "        ax=ax,\n",
    "        annot_kws={\"size\": 16},\n",
    "    )\n",
    "    ax.set_title(f\"{model_name} Confusion Matrix\", fontsize=16)\n",
    "    ax.set_xlabel(\"Predicted Label\", fontsize=14)\n",
    "    ax.set_ylabel(\"True Label\", fontsize=14)\n",
    "    ax.set_xticklabels([\"Negative\", \"Positive\"], fontsize=12)\n",
    "    ax.set_yticklabels([\"Negative\", \"Positive\"], fontsize=12)\n",
    "\n",
    "# Hide empty subplots if any\n",
    "for j in range(i + 1, len(axes_flat)):\n",
    "    axes_flat[j].set_visible(False)\n",
    "\n",
    "plt.tight_layout()\n",
    "plt.show()"
   ],
   "outputs": [
    {
     "data": {
      "text/plain": [
       "<Figure size 1500x1000 with 11 Axes>"
      ],
      "image/png": "[encoded data removed]"
     },
     "metadata": {},
     "output_type": "display_data"
    }
   ],
   "execution_count": 46
  },
  {
   "cell_type": "code",
   "id": "80ee9b2c",
   "metadata": {
    "ExecuteTime": {
     "end_time": "2025-06-03T08:10:03.477419Z",
     "start_time": "2025-06-03T08:10:03.257413Z"
    }
   },
   "source": [
    "fig, axes = plt.subplots(2, 2, figsize=(15, 10))\n",
    "\n",
    "metrics = [\"Accuracy\", \"Precision\", \"Recall\", \"F1-Score\"]\n",
    "colors = [\"skyblue\", \"lightgreen\", \"lightcoral\", \"lightyellow\"]\n",
    "\n",
    "for i, metric in enumerate(metrics):\n",
    "    ax = axes[i // 2, i % 2]\n",
    "\n",
    "    sorted_data = results_df.sort_values(metric, ascending=True)\n",
    "\n",
    "    bars = ax.barh(range(len(sorted_data)), sorted_data[metric], color=colors[i])\n",
    "    ax.set_yticks(range(len(sorted_data)))\n",
    "    ax.set_yticklabels(sorted_data[\"Model\"])\n",
    "    ax.set_xlabel(metric)\n",
    "    ax.set_title(f\"Model Comparison - {metric}\")\n",
    "    ax.set_xlim(0, 1)\n",
    "\n",
    "    # Add value labels on bars\n",
    "    for j, bar in enumerate(bars):\n",
    "        width = bar.get_width()\n",
    "        ax.text(\n",
    "            width + 0.01,\n",
    "            bar.get_y() + bar.get_height() / 2,\n",
    "            f\"{width:.3f}\",\n",
    "            ha=\"left\",\n",
    "            va=\"center\",\n",
    "            fontsize=9,\n",
    "        )\n",
    "\n",
    "plt.tight_layout()\n",
    "plt.show()"
   ],
   "outputs": [
    {
     "data": {
      "text/plain": [
       "<Figure size 1500x1000 with 4 Axes>"
      ],
      "image/png": "[encoded data removed]"
     },
     "metadata": {},
     "output_type": "display_data"
    }
   ],
   "execution_count": 54
  }
 ],
 "metadata": {
  "kernelspec": {
   "display_name": "Python 3",
   "language": "python",
   "name": "python3"
  },
  "language_info": {
   "codemirror_mode": {
    "name": "ipython",
    "version": 2
   },
   "file_extension": ".py",
   "mimetype": "text/x-python",
   "name": "python",
   "nbconvert_exporter": "python",
   "pygments_lexer": "ipython2",
   "version": "2.7.6"
  }
 },
 "nbformat": 4,
 "nbformat_minor": 5
}
