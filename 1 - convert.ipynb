{
 "cells": [
  {
   "cell_type": "markdown",
   "id": "f06449ac2e0f4226",
   "metadata": {},
   "source": [
    "# Converting Yelp Review Dataset to CSV Format\n",
    "\n",
    "Cause the raw data is line by line json, we need to convert it into csv format.\n",
    "Also because the dataset is large, we will make a sample of it at the end."
   ]
  },
  {
   "cell_type": "markdown",
   "id": "aed9c8b6065df3c2",
   "metadata": {},
   "source": "### Importing libraries"
  },
  {
   "cell_type": "code",
   "execution_count": 13,
   "id": "2bfde3c8839c44ed",
   "metadata": {
    "ExecuteTime": {
     "end_time": "2025-06-02T16:59:31.016965Z",
     "start_time": "2025-06-02T16:59:31.002714Z"
    }
   },
   "outputs": [],
   "source": [
    "import csv\n",
    "import json\n",
    "import os\n",
    "\n",
    "import pandas as pd\n",
    "from tqdm import tqdm"
   ]
  },
  {
   "cell_type": "markdown",
   "id": "e4d1d8bde5c0ad50",
   "metadata": {},
   "source": "## Constants"
  },
  {
   "cell_type": "code",
   "execution_count": 14,
   "id": "1866cc29d0f5883f",
   "metadata": {
    "ExecuteTime": {
     "end_time": "2025-06-02T16:59:31.044755Z",
     "start_time": "2025-06-02T16:59:31.042167Z"
    }
   },
   "outputs": [],
   "source": [
    "raw_file_path = \"data/yelp_academic_dataset_review.json\"\n",
    "csv_file_path = \"data/reviews.csv\"\n",
    "sample_csv_file_path = \"data/reviews_sample.csv\""
   ]
  },
  {
   "cell_type": "markdown",
   "id": "dc2d8df5158cc71f",
   "metadata": {},
   "source": "## File Information and Structure"
  },
  {
   "cell_type": "code",
   "execution_count": 15,
   "id": "fb839f94aa2f8019",
   "metadata": {
    "ExecuteTime": {
     "end_time": "2025-06-02T16:59:31.059383Z",
     "start_time": "2025-06-02T16:59:31.054443Z"
    }
   },
   "outputs": [
    {
     "name": "stdout",
     "output_type": "stream",
     "text": [
      "File Size: 4.98 GB\n",
      "File head:\n",
      "{\"review_id\":\"KU_O5udG6zpxOg-VcAEodg\",\"user_id\":\"mh_-eMZ6K5RLWhZyISBhwA\",\"business_id\":\"XQfwVwDr-v0ZS3_CbbE5Xw\",\"stars\":3.0,\"useful\":0,\"funny\":0,\"cool\":0,\"text\":\"If you decide to eat here, just be aware it is going to take about 2 hours from beginning to end. We have tried it multiple times, because I want to like it! I have been to it's other locations in NJ and never had a bad experience. \\n\\nThe food is good, but it takes a very long time to come out. The waitstaff is very young, but usually pleasant. We have just had too many experiences where we spent way too long waiting. We usually opt for another diner or restaurant on the weekends, in order to be done quicker.\",\"date\":\"2018-07-07 22:09:11\"}\n",
      "{\"review_id\":\"BiTunyQ73aT9WBnpR9DZGw\",\"user_id\":\"OyoGAe7OKpv6SyGZT5g77Q\",\"business_id\":\"7ATYjTIgM3jUlt4UM3IypQ\",\"stars\":5.0,\"useful\":1,\"funny\":0,\"cool\":1,\"text\":\"I've taken a lot of spin classes over the years, and nothing compares to the classes at Body Cycle. From the nice, clean space and amazing bikes, to the welcoming and motivating instructors, every class is a top notch work out.\\n\\nFor anyone who struggles to fit workouts in, the online scheduling system makes it easy to plan ahead (and there's no need to line up way in advanced like many gyms make you do).\\n\\nThere is no way I can write this review without giving Russell, the owner of Body Cycle, a shout out. Russell's passion for fitness and cycling is so evident, as is his desire for all of his clients to succeed. He is always dropping in to classes to check in\\/provide encouragement, and is open to ideas and recommendations from anyone. Russell always wears a smile on his face, even when he's kicking your butt in class!\",\"date\":\"2012-01-03 15:28:18\"}\n",
      "{\"review_id\":\"saUsX_uimxRlCVr67Z4Jig\",\"user_id\":\"8g_iMtfSiwikVnbP2etR0A\",\"business_id\":\"YjUWPpI6HXG530lwP-fb2A\",\"stars\":3.0,\"useful\":0,\"funny\":0,\"cool\":0,\"text\":\"Family diner. Had the buffet. Eclectic assortment: a large chicken leg, fried jalapeño, tamale, two rolled grape leaves, fresh melon. All good. Lots of Mexican choices there. Also has a menu with breakfast served all day long. Friendly, attentive staff. Good place for a casual relaxed meal with no expectations. Next to the Clarion Hotel.\",\"date\":\"2014-02-05 20:30:30\"}\n",
      "{\"review_id\":\"AqPFMleE6RsU23_auESxiA\",\"user_id\":\"_7bHUi9Uuf5__HHc_Q8guQ\",\"business_id\":\"kxX2SOes4o-D3ZQBkiMRfA\",\"stars\":5.0,\"useful\":1,\"funny\":0,\"cool\":1,\"text\":\"Wow!  Yummy, different,  delicious.   Our favorite is the lamb curry and korma.  With 10 different kinds of naan!!!  Don't let the outside deter you (because we almost changed our minds)...go in and try something new!   You'll be glad you did!\",\"date\":\"2015-01-04 00:01:03\"}\n",
      "{\"review_id\":\"Sx8TMOWLNuJBWer-0pcmoA\",\"user_id\":\"bcjbaE6dDog4jkNY91ncLQ\",\"business_id\":\"e4Vwtrqf-wpJfwesgvdgxQ\",\"stars\":4.0,\"useful\":1,\"funny\":0,\"cool\":1,\"text\":\"Cute interior and owner (?) gave us tour of upcoming patio\\/rooftop area which will be great on beautiful days like today. Cheese curds were very good and very filling. Really like that sandwiches come w salad, esp after eating too many curds! Had the onion, gruyere, tomato sandwich. Wasn't too much cheese which I liked. Needed something else...pepper jelly maybe. Would like to see more menu options added such as salads w fun cheeses. Lots of beer and wine as well as limited cocktails. Next time I will try one of the draft wines.\",\"date\":\"2017-01-14 20:54:15\"}\n"
     ]
    }
   ],
   "source": [
    "file_size = os.path.getsize(raw_file_path)\n",
    "file_size_gb = file_size / (1024**3)\n",
    "print(f\"File Size: {file_size_gb:.2f} GB\")\n",
    "\n",
    "print(\"File head:\")\n",
    "with open(raw_file_path, \"r\") as file:\n",
    "    for _ in range(5):  # Read the first 5 lines\n",
    "        print(file.readline().strip())"
   ]
  },
  {
   "cell_type": "markdown",
   "id": "4b6937eabcf7eed1",
   "metadata": {},
   "source": "## Reading the raw data"
  },
  {
   "cell_type": "code",
   "execution_count": 16,
   "id": "a04597bde41bde83",
   "metadata": {
    "ExecuteTime": {
     "end_time": "2025-06-02T16:59:55.775994Z",
     "start_time": "2025-06-02T16:59:31.077386Z"
    }
   },
   "outputs": [
    {
     "name": "stderr",
     "output_type": "stream",
     "text": [
      "Reading lines: 6990280it [00:24, 286092.96it/s]\n"
     ]
    },
    {
     "name": "stdout",
     "output_type": "stream",
     "text": [
      "CPU times: user 19 s, sys: 3.22 s, total: 22.2 s\n",
      "Wall time: 24.5 s\n"
     ]
    }
   ],
   "source": [
    "%%time\n",
    "with open(raw_file_path, \"r\") as file:\n",
    "    data = []\n",
    "    for line in tqdm(file, desc=\"Reading lines\"):\n",
    "        data.append(json.loads(line))"
   ]
  },
  {
   "cell_type": "markdown",
   "id": "412528dcd6a74ae0",
   "metadata": {},
   "source": "## Saving to CSV"
  },
  {
   "cell_type": "code",
   "execution_count": 17,
   "id": "20fda100c65a5200",
   "metadata": {
    "ExecuteTime": {
     "end_time": "2025-06-02T17:02:18.176154Z",
     "start_time": "2025-06-02T16:59:56.330160Z"
    }
   },
   "outputs": [
    {
     "name": "stderr",
     "output_type": "stream",
     "text": [
      "Writing rows: 100%|██████████| 6990280/6990280 [02:12<00:00, 52669.34it/s]\n"
     ]
    }
   ],
   "source": [
    "with open(csv_file_path, \"w\", newline=\"\", encoding=\"utf-8\") as csvfile:\n",
    "    fieldnames = data[0].keys()\n",
    "    writer = csv.DictWriter(csvfile, fieldnames=fieldnames)\n",
    "\n",
    "    writer.writeheader()\n",
    "    for row in tqdm(data, desc=\"Writing rows\"):\n",
    "        writer.writerow(row)"
   ]
  },
  {
   "cell_type": "markdown",
   "id": "190c6b585718878f",
   "metadata": {},
   "source": "## Loading into DataFrame"
  },
  {
   "cell_type": "code",
   "execution_count": 18,
   "id": "b9f7fd244e01d86",
   "metadata": {
    "ExecuteTime": {
     "end_time": "2025-06-02T17:03:18.053759Z",
     "start_time": "2025-06-02T17:02:18.246546Z"
    }
   },
   "outputs": [
    {
     "name": "stdout",
     "output_type": "stream",
     "text": [
      "DataFrame shape: (6990280, 9)\n"
     ]
    }
   ],
   "source": [
    "df = pd.read_csv(csv_file_path, low_memory=True)\n",
    "print(f\"DataFrame shape: {df.shape}\")"
   ]
  },
  {
   "cell_type": "markdown",
   "id": "c7b236183a9c6176",
   "metadata": {},
   "source": "## Sampling the dataset to reduce size"
  },
  {
   "cell_type": "code",
   "execution_count": 22,
   "id": "6cd0ecd16911a5a0",
   "metadata": {
    "ExecuteTime": {
     "end_time": "2025-06-02T17:08:21.258615Z",
     "start_time": "2025-06-02T17:08:18.616934Z"
    }
   },
   "outputs": [
    {
     "name": "stdout",
     "output_type": "stream",
     "text": [
      "Sample DataFrame shape: (69903, 9)\n"
     ]
    }
   ],
   "source": [
    "sample_df = df.sample(frac=0.1, random_state=42)  # Taking a 10% sample\n",
    "print(f\"Sample DataFrame shape: {sample_df.shape}\")"
   ]
  },
  {
   "cell_type": "markdown",
   "id": "6358234948b5e408",
   "metadata": {},
   "source": "## Saving the sample DataFrame to CSV"
  },
  {
   "cell_type": "code",
   "execution_count": 24,
   "id": "a60e4c46d269e81c",
   "metadata": {
    "ExecuteTime": {
     "end_time": "2025-06-02T17:08:59.202500Z",
     "start_time": "2025-06-02T17:08:57.602777Z"
    }
   },
   "outputs": [],
   "source": [
    "sample_df.to_csv(sample_csv_file_path, index=False)"
   ]
  }
 ],
 "metadata": {
  "kernelspec": {
   "display_name": "Python 3",
   "language": "python",
   "name": "python3"
  },
  "language_info": {
   "codemirror_mode": {
    "name": "ipython",
    "version": 2
   },
   "file_extension": ".py",
   "mimetype": "text/x-python",
   "name": "python",
   "nbconvert_exporter": "python",
   "pygments_lexer": "ipython2",
   "version": "2.7.6"
  }
 },
 "nbformat": 4,
 "nbformat_minor": 5
}
