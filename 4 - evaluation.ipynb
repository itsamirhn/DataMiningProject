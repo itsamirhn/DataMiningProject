{
 "cells": [
  {
   "cell_type": "markdown",
   "id": "5ec761a4c0ec0ff0",
   "metadata": {},
   "source": [
    "# Evaluation of Machine Learning Models for Sentiment Analysis"
   ]
  },
  {
   "cell_type": "markdown",
   "id": "4faea403f85a1790",
   "metadata": {},
   "source": [
    "### Imports"
   ]
  },
  {
   "cell_type": "code",
   "execution_count": 19,
   "id": "initial_id",
   "metadata": {
    "ExecuteTime": {
     "end_time": "2025-06-02T22:46:25.423415Z",
     "start_time": "2025-06-02T22:46:25.413454Z"
    },
    "collapsed": true
   },
   "outputs": [],
   "source": [
    "import time\n",
    "\n",
    "import matplotlib.pyplot as plt\n",
    "import pandas as pd\n",
    "import seaborn as sns\n",
    "from sklearn.ensemble import RandomForestClassifier, VotingClassifier\n",
    "from sklearn.feature_extraction.text import CountVectorizer\n",
    "from sklearn.linear_model import LogisticRegression\n",
    "from sklearn.metrics import (\n",
    "    accuracy_score,\n",
    "    confusion_matrix,\n",
    "    f1_score,\n",
    "    precision_score,\n",
    "    recall_score,\n",
    ")\n",
    "from sklearn.model_selection import cross_val_score, train_test_split\n",
    "from sklearn.preprocessing import LabelEncoder\n",
    "from sklearn.svm import SVC\n",
    "from sklearn.tree import DecisionTreeClassifier\n",
    "from tqdm import tqdm\n",
    "\n",
    "# warnings.filterwarnings(\"ignore\")"
   ]
  },
  {
   "cell_type": "code",
   "execution_count": 20,
   "id": "10ba72ad",
   "metadata": {
    "ExecuteTime": {
     "end_time": "2025-06-02T22:46:25.474202Z",
     "start_time": "2025-06-02T22:46:25.471781Z"
    }
   },
   "outputs": [],
   "source": [
    "RF_N_ESTIMATORS = 50  # Random Forest trees\n",
    "LR_MAX_ITER = 500  # Logistic Regression iterations\n",
    "SVC_MAX_ITER = 100  # SVM iterations\n",
    "DT_MAX_DEPTH = 5  # Decision Tree depth\n",
    "CV_FOLDS = 3  # Cross-validation folds\n",
    "MAX_FEATURES = 5000  # BoW features"
   ]
  },
  {
   "cell_type": "markdown",
   "id": "a707ecf35e2b3c43",
   "metadata": {},
   "source": [
    "## Preprocessing Steps"
   ]
  },
  {
   "cell_type": "code",
   "execution_count": 21,
   "id": "3560cff81d193534",
   "metadata": {
    "ExecuteTime": {
     "end_time": "2025-06-02T22:46:25.746906Z",
     "start_time": "2025-06-02T22:46:25.492819Z"
    }
   },
   "outputs": [],
   "source": [
    "df = pd.read_csv(\"data/reviews_sample_processed.csv\")"
   ]
  },
  {
   "cell_type": "markdown",
   "id": "42a8f76b34d49c59",
   "metadata": {},
   "source": [
    "### Label Encoding\n",
    "\n",
    "This step converts 'positive' and 'negative' labels into numerical values (0 and 1)."
   ]
  },
  {
   "cell_type": "code",
   "execution_count": 22,
   "id": "822ae0ad",
   "metadata": {
    "ExecuteTime": {
     "end_time": "2025-06-02T22:46:25.776799Z",
     "start_time": "2025-06-02T22:46:25.768717Z"
    }
   },
   "outputs": [],
   "source": [
    "label_encoder = LabelEncoder()\n",
    "y = label_encoder.fit_transform(df[\"label\"])"
   ]
  },
  {
   "cell_type": "code",
   "execution_count": 23,
   "id": "d251310a7b4a2060",
   "metadata": {
    "ExecuteTime": {
     "end_time": "2025-06-02T22:46:25.799113Z",
     "start_time": "2025-06-02T22:46:25.795939Z"
    }
   },
   "outputs": [
    {
     "name": "stdout",
     "output_type": "stream",
     "text": [
      "Label encoding: {'negative': np.int64(0), 'positive': np.int64(1)}\n"
     ]
    }
   ],
   "source": [
    "print(\n",
    "    f\"Label encoding: {dict(zip(label_encoder.classes_, label_encoder.transform(label_encoder.classes_)))}\"\n",
    ")"
   ]
  },
  {
   "cell_type": "markdown",
   "id": "ae8008ca601118cf",
   "metadata": {},
   "source": [
    "### Bag of Words (BoW) Matrix Creation\n",
    "\n",
    "This step converts the text data into a numerical format based on frequency of words."
   ]
  },
  {
   "cell_type": "code",
   "execution_count": 24,
   "id": "81d54772",
   "metadata": {
    "ExecuteTime": {
     "end_time": "2025-06-02T22:46:27.252616Z",
     "start_time": "2025-06-02T22:46:25.823239Z"
    }
   },
   "outputs": [],
   "source": [
    "vectorizer = CountVectorizer(\n",
    "    max_features=MAX_FEATURES,\n",
    "    min_df=2,  # Ignore terms that appear in less than 2 documents\n",
    "    max_df=0.95,  # Ignore terms that appear in more than 95% of documents\n",
    "    stop_words=\"english\",\n",
    ")\n",
    "\n",
    "X = vectorizer.fit_transform(df[\"text\"])"
   ]
  },
  {
   "cell_type": "code",
   "execution_count": 25,
   "id": "23d88c775e3052d0",
   "metadata": {
    "ExecuteTime": {
     "end_time": "2025-06-02T22:46:27.275388Z",
     "start_time": "2025-06-02T22:46:27.273049Z"
    }
   },
   "outputs": [
    {
     "name": "stdout",
     "output_type": "stream",
     "text": [
      "BoW matrix shape: (69903, 5000)\n"
     ]
    }
   ],
   "source": [
    "print(f\"BoW matrix shape: {X.shape}\")"
   ]
  },
  {
   "cell_type": "markdown",
   "id": "5b29c1efcb96011c",
   "metadata": {},
   "source": [
    "### Splitting the Data"
   ]
  },
  {
   "cell_type": "code",
   "execution_count": 26,
   "id": "dcf7b44253d57793",
   "metadata": {
    "ExecuteTime": {
     "end_time": "2025-06-02T22:46:27.326773Z",
     "start_time": "2025-06-02T22:46:27.298631Z"
    }
   },
   "outputs": [],
   "source": [
    "X_train, X_test, y_train, y_test = train_test_split(\n",
    "    X, y, test_size=0.2, random_state=42, stratify=y\n",
    ")"
   ]
  },
  {
   "cell_type": "code",
   "execution_count": 27,
   "id": "89be3565d5f823e2",
   "metadata": {
    "ExecuteTime": {
     "end_time": "2025-06-02T22:46:27.347835Z",
     "start_time": "2025-06-02T22:46:27.345697Z"
    }
   },
   "outputs": [
    {
     "name": "stdout",
     "output_type": "stream",
     "text": [
      "Training set shape: (55922, 5000)\n",
      "Test set shape: (13981, 5000)\n"
     ]
    }
   ],
   "source": [
    "print(f\"Training set shape: {X_train.shape}\")\n",
    "print(f\"Test set shape: {X_test.shape}\")"
   ]
  },
  {
   "cell_type": "markdown",
   "id": "23ee149fa6c417fd",
   "metadata": {},
   "source": [
    "## Training and Evaluating Models"
   ]
  },
  {
   "cell_type": "code",
   "execution_count": 28,
   "id": "830dc274f8266841",
   "metadata": {
    "ExecuteTime": {
     "end_time": "2025-06-02T22:46:27.375443Z",
     "start_time": "2025-06-02T22:46:27.371196Z"
    }
   },
   "outputs": [],
   "source": [
    "results = {}\n",
    "\n",
    "\n",
    "def get_result(y_test, y_pred):\n",
    "    return {\n",
    "        \"test_accuracy\": accuracy_score(y_test, y_pred),\n",
    "        \"precision\": precision_score(y_test, y_pred, average=\"weighted\"),\n",
    "        \"recall\": recall_score(y_test, y_pred, average=\"weighted\"),\n",
    "        \"f1_score\": f1_score(y_test, y_pred, average=\"weighted\"),\n",
    "        \"predictions\": y_pred,\n",
    "        \"positive_precision\": precision_score(\n",
    "            y_test, y_pred, pos_label=1, average=\"binary\"\n",
    "        ),\n",
    "        \"positive_recall\": recall_score(y_test, y_pred, pos_label=1, average=\"binary\"),\n",
    "        \"positive_f1_score\": f1_score(y_test, y_pred, pos_label=1, average=\"binary\"),\n",
    "        \"negative_precision\": precision_score(\n",
    "            y_test, y_pred, pos_label=0, average=\"binary\"\n",
    "        ),\n",
    "        \"negative_recall\": recall_score(y_test, y_pred, pos_label=0, average=\"binary\"),\n",
    "        \"negative_f1_score\": f1_score(y_test, y_pred, pos_label=0, average=\"binary\"),\n",
    "    }\n",
    "\n",
    "\n",
    "base_classifiers = {\n",
    "    \"Decision Tree\": DecisionTreeClassifier(random_state=42, max_depth=DT_MAX_DEPTH),\n",
    "    \"Logistic Regression\": LogisticRegression(\n",
    "        random_state=42, max_iter=LR_MAX_ITER, verbose=1\n",
    "    ),\n",
    "    \"SVM\": SVC(\n",
    "        random_state=42,\n",
    "        max_iter=SVC_MAX_ITER,\n",
    "        probability=True,\n",
    "        kernel=\"linear\",\n",
    "        verbose=True,\n",
    "    ),\n",
    "}"
   ]
  },
  {
   "cell_type": "markdown",
   "id": "95f055ae14ddd47c",
   "metadata": {},
   "source": [
    "### Random Forest"
   ]
  },
  {
   "cell_type": "code",
   "execution_count": 29,
   "id": "cc287505716b591b",
   "metadata": {
    "ExecuteTime": {
     "end_time": "2025-06-02T22:46:27.784741Z",
     "start_time": "2025-06-02T22:46:27.395150Z"
    }
   },
   "outputs": [
    {
     "name": "stderr",
     "output_type": "stream",
     "text": [
      "[Parallel(n_jobs=1)]: Done  49 tasks      | elapsed:    0.3s\n",
      "[Parallel(n_jobs=1)]: Done  50 out of  50 | elapsed:    0.3s finished\n",
      "[Parallel(n_jobs=1)]: Done  49 tasks      | elapsed:    0.0s\n",
      "[Parallel(n_jobs=1)]: Done  50 out of  50 | elapsed:    0.0s finished\n"
     ]
    }
   ],
   "source": [
    "start_time = time.time()\n",
    "\n",
    "rf_clf = RandomForestClassifier(\n",
    "    n_estimators=RF_N_ESTIMATORS, random_state=42, max_depth=DT_MAX_DEPTH, verbose=1\n",
    ")\n",
    "\n",
    "rf_clf.fit(X_train, y_train)\n",
    "y_pred_rf = rf_clf.predict(X_test)\n",
    "\n",
    "results[\"Random Forest\"] = get_result(y_test, y_pred_rf)"
   ]
  },
  {
   "cell_type": "markdown",
   "id": "bde31c537c7f44d1",
   "metadata": {},
   "source": [
    "### Soft Voting (Averaged Voting)"
   ]
  },
  {
   "cell_type": "code",
   "execution_count": 38,
   "id": "350bae62c1622191",
   "metadata": {
    "ExecuteTime": {
     "end_time": "2025-06-02T22:50:53.208452Z",
     "start_time": "2025-06-02T22:50:34.326268Z"
    }
   },
   "outputs": [
    {
     "name": "stderr",
     "output_type": "stream",
     "text": [
      "[Parallel(n_jobs=1)]: Done   1 out of   1 | elapsed:    0.4s finished\n"
     ]
    },
    {
     "name": "stdout",
     "output_type": "stream",
     "text": [
      "[LibSVM]WARN: libsvm Solver reached max_iter\n",
      "optimization finished, #iter = 100\n",
      "obj = -7.025088, rho = 0.706018\n",
      "nSV = 195, nBSV = 0\n",
      "Total nSV = 195\n",
      "WARN: libsvm Solver reached max_iter\n",
      "optimization finished, #iter = 100\n",
      "obj = -8.606189, rho = 0.678301\n",
      "nSV = 199, nBSV = 0\n",
      "Total nSV = 199\n",
      "WARN: libsvm Solver reached max_iter\n",
      "optimization finished, #iter = 100\n",
      "obj = -7.082056, rho = 0.940233\n",
      "nSV = 195, nBSV = 0\n",
      "Total nSV = 195\n",
      "WARN: libsvm Solver reached max_iter\n",
      "optimization finished, #iter = 100\n",
      "obj = -7.935078, rho = 0.899133\n",
      "nSV = 193, nBSV = 0\n",
      "Total nSV = 193\n",
      "WARN: libsvm Solver reached max_iter\n",
      "optimization finished, #iter = 100\n",
      "obj = -7.967616, rho = 0.380767\n",
      "nSV = 194, nBSV = 0\n",
      "Total nSV = 194\n",
      "WARN: libsvm Solver reached max_iter\n",
      "optimization finished, #iter = 100\n",
      "obj = -7.822860, rho = 0.983328\n",
      "nSV = 198, nBSV = 0\n",
      "Total nSV = 198\n"
     ]
    }
   ],
   "source": [
    "soft_voting_clf = VotingClassifier(\n",
    "    estimators=[\n",
    "        (\"dt\", base_classifiers[\"Decision Tree\"]),\n",
    "        (\"lr\", base_classifiers[\"Logistic Regression\"]),\n",
    "        (\"svm\", base_classifiers[\"SVM\"]),\n",
    "    ],\n",
    "    voting=\"soft\",\n",
    ")\n",
    "soft_voting_clf.fit(X_train, y_train)\n",
    "y_pred_soft = soft_voting_clf.predict(X_test)\n",
    "\n",
    "results[\"Averaged Voting\"] = get_result(y_test, y_pred_soft)"
   ]
  },
  {
   "cell_type": "markdown",
   "id": "25e3815c79af59a8",
   "metadata": {},
   "source": [
    "### Hard Voting (Majority Voting)"
   ]
  },
  {
   "cell_type": "code",
   "execution_count": 39,
   "id": "e316ab3a8f49401d",
   "metadata": {
    "ExecuteTime": {
     "end_time": "2025-06-02T22:51:12.593395Z",
     "start_time": "2025-06-02T22:50:53.234179Z"
    }
   },
   "outputs": [
    {
     "name": "stderr",
     "output_type": "stream",
     "text": [
      "[Parallel(n_jobs=1)]: Done   1 out of   1 | elapsed:    0.4s finished\n"
     ]
    },
    {
     "name": "stdout",
     "output_type": "stream",
     "text": [
      "[LibSVM]WARN: libsvm Solver reached max_iter\n",
      "optimization finished, #iter = 100\n",
      "obj = -7.025088, rho = 0.706018\n",
      "nSV = 195, nBSV = 0\n",
      "Total nSV = 195\n",
      "WARN: libsvm Solver reached max_iter\n",
      "optimization finished, #iter = 100\n",
      "obj = -8.606189, rho = 0.678301\n",
      "nSV = 199, nBSV = 0\n",
      "Total nSV = 199\n",
      "WARN: libsvm Solver reached max_iter\n",
      "optimization finished, #iter = 100\n",
      "obj = -7.082056, rho = 0.940233\n",
      "nSV = 195, nBSV = 0\n",
      "Total nSV = 195\n",
      "WARN: libsvm Solver reached max_iter\n",
      "optimization finished, #iter = 100\n",
      "obj = -7.935078, rho = 0.899133\n",
      "nSV = 193, nBSV = 0\n",
      "Total nSV = 193\n",
      "WARN: libsvm Solver reached max_iter\n",
      "optimization finished, #iter = 100\n",
      "obj = -7.967616, rho = 0.380767\n",
      "nSV = 194, nBSV = 0\n",
      "Total nSV = 194\n",
      "WARN: libsvm Solver reached max_iter\n",
      "optimization finished, #iter = 100\n",
      "obj = -7.822860, rho = 0.983328\n",
      "nSV = 198, nBSV = 0\n",
      "Total nSV = 198\n"
     ]
    }
   ],
   "source": [
    "hard_voting_clf = VotingClassifier(\n",
    "    estimators=[\n",
    "        (\"dt\", base_classifiers[\"Decision Tree\"]),\n",
    "        (\"lr\", base_classifiers[\"Logistic Regression\"]),\n",
    "        (\"svm\", base_classifiers[\"SVM\"]),\n",
    "    ],\n",
    "    voting=\"hard\",\n",
    ")\n",
    "hard_voting_clf.fit(X_train, y_train)\n",
    "y_pred_hard = hard_voting_clf.predict(X_test)\n",
    "\n",
    "results[\"Majority Voting\"] = get_result(y_test, y_pred_hard)"
   ]
  },
  {
   "cell_type": "markdown",
   "id": "abdf468baa2a1583",
   "metadata": {},
   "source": "### Weighted Voting"
  },
  {
   "cell_type": "code",
   "execution_count": 40,
   "id": "3214119c22423f76",
   "metadata": {
    "ExecuteTime": {
     "end_time": "2025-06-02T22:52:03.550664Z",
     "start_time": "2025-06-02T22:51:12.633958Z"
    }
   },
   "outputs": [
    {
     "name": "stderr",
     "output_type": "stream",
     "text": [
      "CV Scoring:  33%|███▎      | 1/3 [00:00<00:01,  1.76it/s][Parallel(n_jobs=1)]: Done   1 out of   1 | elapsed:    0.3s finished\n",
      "[Parallel(n_jobs=1)]: Done   1 out of   1 | elapsed:    0.3s finished\n",
      "[Parallel(n_jobs=1)]: Done   1 out of   1 | elapsed:    0.3s finished\n",
      "CV Scoring:  67%|██████▋   | 2/3 [00:01<00:00,  1.19it/s]"
     ]
    },
    {
     "name": "stdout",
     "output_type": "stream",
     "text": [
      "[LibSVM]WARN: libsvm Solver reached max_iter\n",
      "optimization finished, #iter = 100\n",
      "obj = -8.703758, rho = 0.671195\n",
      "nSV = 196, nBSV = 0\n",
      "Total nSV = 196\n",
      "WARN: libsvm Solver reached max_iter\n",
      "optimization finished, #iter = 100\n",
      "obj = -8.229745, rho = 0.627930\n",
      "nSV = 195, nBSV = 0\n",
      "Total nSV = 195\n",
      "WARN: libsvm Solver reached max_iter\n",
      "optimization finished, #iter = 100\n",
      "obj = -9.900354, rho = 0.687802\n",
      "nSV = 197, nBSV = 0\n",
      "Total nSV = 197\n",
      "WARN: libsvm Solver reached max_iter\n",
      "optimization finished, #iter = 100\n",
      "obj = -8.835204, rho = 0.567349\n",
      "nSV = 196, nBSV = 0\n",
      "Total nSV = 196\n",
      "WARN: libsvm Solver reached max_iter\n",
      "optimization finished, #iter = 100\n",
      "obj = -7.716500, rho = 0.669582\n",
      "nSV = 193, nBSV = 1\n",
      "Total nSV = 193\n",
      "WARN: libsvm Solver reached max_iter\n",
      "optimization finished, #iter = 100\n",
      "obj = -8.270682, rho = 0.644997\n",
      "nSV = 198, nBSV = 0\n",
      "Total nSV = 198\n",
      "[LibSVM]WARN: libsvm Solver reached max_iter\n",
      "optimization finished, #iter = 100\n",
      "obj = -8.889357, rho = 0.906439\n",
      "nSV = 197, nBSV = 0\n",
      "Total nSV = 197\n",
      "WARN: libsvm Solver reached max_iter\n",
      "optimization finished, #iter = 100\n",
      "obj = -8.872053, rho = 0.818111\n",
      "nSV = 197, nBSV = 0\n",
      "Total nSV = 197\n",
      "WARN: libsvm Solver reached max_iter\n",
      "optimization finished, #iter = 100\n",
      "obj = -8.748964, rho = 0.908294\n",
      "nSV = 194, nBSV = 0\n",
      "Total nSV = 194\n",
      "WARN: libsvm Solver reached max_iter\n",
      "optimization finished, #iter = 100\n",
      "obj = -8.046676, rho = 1.013602\n",
      "nSV = 195, nBSV = 0\n",
      "Total nSV = 195\n",
      "WARN: libsvm Solver reached max_iter\n",
      "optimization finished, #iter = 100\n",
      "obj = -8.206369, rho = 1.244511\n",
      "nSV = 191, nBSV = 0\n",
      "Total nSV = 191\n",
      "WARN: libsvm Solver reached max_iter\n",
      "optimization finished, #iter = 100\n",
      "obj = -8.401859, rho = 0.715975\n",
      "nSV = 198, nBSV = 0\n",
      "Total nSV = 198\n",
      "[LibSVM]WARN: libsvm Solver reached max_iter\n",
      "optimization finished, #iter = 100\n",
      "obj = -7.465139, rho = 0.933372\n",
      "nSV = 196, nBSV = 0\n",
      "Total nSV = 196\n",
      "WARN: libsvm Solver reached max_iter\n",
      "optimization finished, #iter = 100\n",
      "obj = -7.939473, rho = 0.887560\n",
      "nSV = 196, nBSV = 1\n",
      "Total nSV = 196\n",
      "WARN: libsvm Solver reached max_iter\n",
      "optimization finished, #iter = 100\n",
      "obj = -7.922568, rho = 1.102556\n",
      "nSV = 194, nBSV = 0\n",
      "Total nSV = 194\n",
      "WARN: libsvm Solver reached max_iter\n",
      "optimization finished, #iter = 100\n",
      "obj = -8.895251, rho = 1.158251\n",
      "nSV = 192, nBSV = 1\n",
      "Total nSV = 192\n",
      "WARN: libsvm Solver reached max_iter\n",
      "optimization finished, #iter = 100\n",
      "obj = -7.907891, rho = 0.950398\n",
      "nSV = 197, nBSV = 0\n",
      "Total nSV = 197\n",
      "WARN: libsvm Solver reached max_iter\n",
      "optimization finished, #iter = 100\n",
      "obj = -7.674907, rho = 0.651152\n",
      "nSV = 199, nBSV = 0\n",
      "Total nSV = 199\n"
     ]
    },
    {
     "name": "stderr",
     "output_type": "stream",
     "text": [
      "CV Scoring: 100%|██████████| 3/3 [00:33<00:00, 11.14s/it]\n",
      "[Parallel(n_jobs=1)]: Done   1 out of   1 | elapsed:    0.4s finished\n"
     ]
    },
    {
     "name": "stdout",
     "output_type": "stream",
     "text": [
      "[LibSVM]WARN: libsvm Solver reached max_iter\n",
      "optimization finished, #iter = 100\n",
      "obj = -7.025088, rho = 0.706018\n",
      "nSV = 195, nBSV = 0\n",
      "Total nSV = 195\n",
      "WARN: libsvm Solver reached max_iter\n",
      "optimization finished, #iter = 100\n",
      "obj = -8.606189, rho = 0.678301\n",
      "nSV = 199, nBSV = 0\n",
      "Total nSV = 199\n",
      "WARN: libsvm Solver reached max_iter\n",
      "optimization finished, #iter = 100\n",
      "obj = -7.082056, rho = 0.940233\n",
      "nSV = 195, nBSV = 0\n",
      "Total nSV = 195\n",
      "WARN: libsvm Solver reached max_iter\n",
      "optimization finished, #iter = 100\n",
      "obj = -7.935078, rho = 0.899133\n",
      "nSV = 193, nBSV = 0\n",
      "Total nSV = 193\n",
      "WARN: libsvm Solver reached max_iter\n",
      "optimization finished, #iter = 100\n",
      "obj = -7.967616, rho = 0.380767\n",
      "nSV = 194, nBSV = 0\n",
      "Total nSV = 194\n",
      "WARN: libsvm Solver reached max_iter\n",
      "optimization finished, #iter = 100\n",
      "obj = -7.822860, rho = 0.983328\n",
      "nSV = 198, nBSV = 0\n",
      "Total nSV = 198\n"
     ]
    }
   ],
   "source": [
    "cv_scores = {}\n",
    "for name, clf in tqdm(base_classifiers.items(), desc=\"CV Scoring\"):\n",
    "    scores = cross_val_score(clf, X_train, y_train, cv=CV_FOLDS, scoring=\"accuracy\")\n",
    "    cv_scores[name] = scores.mean()\n",
    "\n",
    "# Normalize weights\n",
    "total_score = sum(cv_scores.values())\n",
    "weights = [\n",
    "    cv_scores[\"Decision Tree\"] / total_score,\n",
    "    cv_scores[\"Logistic Regression\"] / total_score,\n",
    "    cv_scores[\"SVM\"] / total_score,\n",
    "]\n",
    "\n",
    "weighted_voting_clf = VotingClassifier(\n",
    "    estimators=[\n",
    "        (\"dt\", base_classifiers[\"Decision Tree\"]),\n",
    "        (\"lr\", base_classifiers[\"Logistic Regression\"]),\n",
    "        (\"svm\", base_classifiers[\"SVM\"]),\n",
    "    ],\n",
    "    voting=\"soft\",\n",
    "    weights=weights,\n",
    ")\n",
    "weighted_voting_clf.fit(X_train, y_train)\n",
    "y_pred_weighted = weighted_voting_clf.predict(X_test)\n",
    "\n",
    "results[\"Weighted Voting\"] = get_result(y_test, y_pred_weighted)"
   ]
  },
  {
   "cell_type": "markdown",
   "id": "331dba48c2499cc9",
   "metadata": {},
   "source": "## Results Summary and Visualization"
  },
  {
   "cell_type": "code",
   "execution_count": 50,
   "id": "96c79bc0",
   "metadata": {
    "ExecuteTime": {
     "end_time": "2025-06-02T22:58:50.011017Z",
     "start_time": "2025-06-02T22:58:50.006366Z"
    }
   },
   "outputs": [],
   "source": [
    "results_df = pd.DataFrame(results).T\n",
    "results_df = results_df[\n",
    "    [\n",
    "        \"test_accuracy\",\n",
    "        \"precision\",\n",
    "        \"recall\",\n",
    "        \"f1_score\",\n",
    "        \"positive_precision\",\n",
    "        \"positive_recall\",\n",
    "        \"positive_f1_score\",\n",
    "        \"negative_precision\",\n",
    "        \"negative_recall\",\n",
    "        \"negative_f1_score\",\n",
    "    ]\n",
    "]\n",
    "results_df.columns = [\n",
    "    \"Accuracy\",\n",
    "    \"Precision\",\n",
    "    \"Recall\",\n",
    "    \"F1-Score\",\n",
    "    \"Positive Precision\",\n",
    "    \"Positive Recall\",\n",
    "    \"Positive F1-Score\",\n",
    "    \"Negative Precision\",\n",
    "    \"Negative Recall\",\n",
    "    \"Negative F1-Score\",\n",
    "]\n",
    "results_df = results_df.reset_index().rename(columns={\"index\": \"Model\"})\n",
    "results_df = results_df.round(4)"
   ]
  },
  {
   "cell_type": "code",
   "execution_count": 51,
   "id": "ab8ceea8f1da211f",
   "metadata": {
    "ExecuteTime": {
     "end_time": "2025-06-02T22:58:51.498046Z",
     "start_time": "2025-06-02T22:58:51.493185Z"
    }
   },
   "outputs": [
    {
     "data": {
      "text/html": [
       "<div>\n",
       "<style scoped>\n",
       "    .dataframe tbody tr th:only-of-type {\n",
       "        vertical-align: middle;\n",
       "    }\n",
       "\n",
       "    .dataframe tbody tr th {\n",
       "        vertical-align: top;\n",
       "    }\n",
       "\n",
       "    .dataframe thead th {\n",
       "        text-align: right;\n",
       "    }\n",
       "</style>\n",
       "<table border=\"1\" class=\"dataframe\">\n",
       "  <thead>\n",
       "    <tr style=\"text-align: right;\">\n",
       "      <th></th>\n",
       "      <th>Model</th>\n",
       "      <th>Accuracy</th>\n",
       "      <th>Precision</th>\n",
       "      <th>Recall</th>\n",
       "      <th>F1-Score</th>\n",
       "      <th>Positive Precision</th>\n",
       "      <th>Positive Recall</th>\n",
       "      <th>Positive F1-Score</th>\n",
       "      <th>Negative Precision</th>\n",
       "      <th>Negative Recall</th>\n",
       "      <th>Negative F1-Score</th>\n",
       "    </tr>\n",
       "  </thead>\n",
       "  <tbody>\n",
       "    <tr>\n",
       "      <th>0</th>\n",
       "      <td>Random Forest</td>\n",
       "      <td>0.689793</td>\n",
       "      <td>0.778217</td>\n",
       "      <td>0.689793</td>\n",
       "      <td>0.580932</td>\n",
       "      <td>0.684268</td>\n",
       "      <td>0.999148</td>\n",
       "      <td>0.812259</td>\n",
       "      <td>0.97037</td>\n",
       "      <td>0.057068</td>\n",
       "      <td>0.107797</td>\n",
       "    </tr>\n",
       "    <tr>\n",
       "      <th>1</th>\n",
       "      <td>Averaged Voting</td>\n",
       "      <td>0.855089</td>\n",
       "      <td>0.865139</td>\n",
       "      <td>0.855089</td>\n",
       "      <td>0.845702</td>\n",
       "      <td>0.835826</td>\n",
       "      <td>0.975932</td>\n",
       "      <td>0.900462</td>\n",
       "      <td>0.925091</td>\n",
       "      <td>0.607929</td>\n",
       "      <td>0.733701</td>\n",
       "    </tr>\n",
       "    <tr>\n",
       "      <th>2</th>\n",
       "      <td>Majority Voting</td>\n",
       "      <td>0.773121</td>\n",
       "      <td>0.792341</td>\n",
       "      <td>0.773121</td>\n",
       "      <td>0.741599</td>\n",
       "      <td>0.758738</td>\n",
       "      <td>0.970927</td>\n",
       "      <td>0.851817</td>\n",
       "      <td>0.861069</td>\n",
       "      <td>0.368547</td>\n",
       "      <td>0.516168</td>\n",
       "    </tr>\n",
       "    <tr>\n",
       "      <th>3</th>\n",
       "      <td>Weighted Voting</td>\n",
       "      <td>0.870539</td>\n",
       "      <td>0.875902</td>\n",
       "      <td>0.870539</td>\n",
       "      <td>0.864377</td>\n",
       "      <td>0.856203</td>\n",
       "      <td>0.970181</td>\n",
       "      <td>0.909636</td>\n",
       "      <td>0.916193</td>\n",
       "      <td>0.666739</td>\n",
       "      <td>0.77181</td>\n",
       "    </tr>\n",
       "  </tbody>\n",
       "</table>\n",
       "</div>"
      ],
      "text/plain": [
       "             Model  Accuracy Precision    Recall  F1-Score Positive Precision  \\\n",
       "0    Random Forest  0.689793  0.778217  0.689793  0.580932           0.684268   \n",
       "1  Averaged Voting  0.855089  0.865139  0.855089  0.845702           0.835826   \n",
       "2  Majority Voting  0.773121  0.792341  0.773121  0.741599           0.758738   \n",
       "3  Weighted Voting  0.870539  0.875902  0.870539  0.864377           0.856203   \n",
       "\n",
       "  Positive Recall Positive F1-Score Negative Precision Negative Recall  \\\n",
       "0        0.999148          0.812259            0.97037        0.057068   \n",
       "1        0.975932          0.900462           0.925091        0.607929   \n",
       "2        0.970927          0.851817           0.861069        0.368547   \n",
       "3        0.970181          0.909636           0.916193        0.666739   \n",
       "\n",
       "  Negative F1-Score  \n",
       "0          0.107797  \n",
       "1          0.733701  \n",
       "2          0.516168  \n",
       "3           0.77181  "
      ]
     },
     "execution_count": 51,
     "metadata": {},
     "output_type": "execute_result"
    }
   ],
   "source": [
    "results_df"
   ]
  },
  {
   "cell_type": "markdown",
   "id": "c0e4c67ad151239d",
   "metadata": {},
   "source": "### Plots"
  },
  {
   "cell_type": "markdown",
   "id": "568967fe3e1d5d84",
   "metadata": {},
   "source": "#### Confusion Matrices"
  },
  {
   "cell_type": "code",
   "execution_count": 74,
   "id": "8038b0f5",
   "metadata": {
    "ExecuteTime": {
     "end_time": "2025-06-02T23:06:33.125975Z",
     "start_time": "2025-06-02T23:06:32.644116Z"
    }
   },
   "outputs": [
    {
     "data": {
      "image/png": "[encoded data removed]",
      "text/plain": [
       "<Figure size 960x960 with 8 Axes>"
      ]
     },
     "metadata": {},
     "output_type": "display_data"
    }
   ],
   "source": [
    "fig, axes = plt.subplots(2, 2, figsize=(12, 12))\n",
    "\n",
    "for i, (model_name, result) in enumerate(results.items()):\n",
    "    ax = axes[i // 2, i % 2]\n",
    "    cm = confusion_matrix(y_test, result[\"predictions\"])\n",
    "    sns.heatmap(\n",
    "        cm,\n",
    "        annot=True,\n",
    "        fmt=\"d\",\n",
    "        cmap=\"Blues\",\n",
    "        ax=ax,\n",
    "        annot_kws={\"size\": 16},\n",
    "    )\n",
    "    ax.set_title(f\"{model_name} Confusion Matrix\", fontsize=16)\n",
    "    ax.set_xlabel(\"Predicted Label\", fontsize=14)\n",
    "    ax.set_ylabel(\"True Label\", fontsize=14)\n",
    "    ax.set_xticklabels([\"Negative\", \"Positive\"], fontsize=12)\n",
    "    ax.set_yticklabels([\"Negative\", \"Positive\"], fontsize=12)\n",
    "\n",
    "\n",
    "plt.tight_layout()\n",
    "plt.show()"
   ]
  },
  {
   "cell_type": "code",
   "execution_count": 85,
   "id": "80ee9b2c",
   "metadata": {
    "ExecuteTime": {
     "end_time": "2025-06-02T23:10:38.919130Z",
     "start_time": "2025-06-02T23:10:38.799061Z"
    }
   },
   "outputs": [
    {
     "data": {
      "image/png": "[encoded data removed]",
      "text/plain": [
       "<Figure size 1200x800 with 4 Axes>"
      ]
     },
     "metadata": {},
     "output_type": "display_data"
    }
   ],
   "source": [
    "fig, axes = plt.subplots(2, 2, figsize=(15, 10))\n",
    "\n",
    "metrics = [\"Accuracy\", \"Precision\", \"Recall\", \"F1-Score\"]\n",
    "colors = [\"skyblue\", \"lightgreen\", \"lightcoral\", \"lightyellow\"]\n",
    "\n",
    "for i, metric in enumerate(metrics):\n",
    "    ax = axes[i // 2, i % 2]\n",
    "\n",
    "    sorted_data = results_df.sort_values(metric, ascending=True)\n",
    "\n",
    "    bars = ax.barh(range(len(sorted_data)), sorted_data[metric], color=colors[i])\n",
    "    ax.set_yticks(range(len(sorted_data)))\n",
    "    ax.set_yticklabels(sorted_data.index)\n",
    "    ax.set_xlabel(metric)\n",
    "    ax.set_title(f\"Model Comparison - {metric}\")\n",
    "    ax.set_xlim(0, 1)\n",
    "\n",
    "    # Add value labels on bars\n",
    "    for j, bar in enumerate(bars):\n",
    "        width = bar.get_width()\n",
    "        ax.text(\n",
    "            width + 0.01,\n",
    "            bar.get_y() + bar.get_height() / 2,\n",
    "            f\"{width:.3f}\",\n",
    "            ha=\"left\",\n",
    "            va=\"center\",\n",
    "            fontsize=9,\n",
    "        )\n",
    "\n",
    "plt.tight_layout()\n",
    "plt.show()"
   ]
  }
 ],
 "metadata": {
  "kernelspec": {
   "display_name": "Python 3",
   "language": "python",
   "name": "python3"
  },
  "language_info": {
   "codemirror_mode": {
    "name": "ipython",
    "version": 2
   },
   "file_extension": ".py",
   "mimetype": "text/x-python",
   "name": "python",
   "nbconvert_exporter": "python",
   "pygments_lexer": "ipython2",
   "version": "2.7.6"
  }
 },
 "nbformat": 4,
 "nbformat_minor": 5
}
